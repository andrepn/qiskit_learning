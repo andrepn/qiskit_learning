{
 "cells": [
  {
   "cell_type": "markdown",
   "metadata": {},
   "source": [
    "<img src=\"../../images/qiskit-heading.gif\" alt=\"Note: In order for images to show up in this jupyter notebook you need to select File => Trusted Notebook\" width=\"500 px\" align=\"left\">"
   ]
  },
  {
   "cell_type": "markdown",
   "metadata": {},
   "source": [
    "\n",
    "\n",
    "# _*Hello Qiskit*_\n",
    "\n",
    "Click [here](https://mybinder.org/v2/gh/QISKit/qiskit-tutorial/master?filepath=community/games/Hello_Qiskit.ipynb) to run this notebook in your browser using [Binder](https://mybinder.org).\n",
    "\n",
    "The latest version of this notebook is available on https://github.com/qiskit/qiskit-tutorial.\n",
    "\n",
    "***\n",
    "### Contributors\n",
    "James R. Wootton, IBM Research\n",
    "***"
   ]
  },
  {
   "cell_type": "markdown",
   "metadata": {},
   "source": [
    "## Chapter 1: Beginning with bits\n",
    "\n",
    "This is a Jupyter notebook, in which you will run some puzzles and learn about quantum computing. Don't worry if you've never used a Jupyter notebook before. It just means you'll see lots of grey boxes with code in, like the one below. These are known as cells."
   ]
  },
  {
   "cell_type": "code",
   "execution_count": 1,
   "metadata": {},
   "outputs": [
    {
     "name": "stdout",
     "output_type": "stream",
     "text": [
      "Hello! I'm a code cell\n"
     ]
    }
   ],
   "source": [
    "print(\"Hello! I'm a code cell\")"
   ]
  },
  {
   "cell_type": "markdown",
   "metadata": {},
   "source": [
    "You'll need to run the cells to use this tutorial. To run a cell, do the following.\n",
    "\n",
    "* For laptops and desktops, click on the cell and press **Shift-Enter**.\n",
    "\n",
    "* For mobile devices, tap on the icon that appears to the left of a cell.\n",
    "\n",
    "Get started by doing this for the cell below (it will take a second or two to run)."
   ]
  },
  {
   "cell_type": "code",
   "execution_count": 2,
   "metadata": {},
   "outputs": [
    {
     "name": "stdout",
     "output_type": "stream",
     "text": [
      "Set up started...\n",
      "Set up complete!\n"
     ]
    }
   ],
   "source": [
    "print('Set up started...')\n",
    "%matplotlib notebook\n",
    "import sys\n",
    "sys.path.append('game_engines')\n",
    "import hello_quantum\n",
    "print('Set up complete!')\n"
   ]
  },
  {
   "cell_type": "markdown",
   "metadata": {},
   "source": [
    "The rest of the cells in this notebook contain code that sets up puzzles for you to solve. To get the puzzles, just run the cells. To restart a puzzle, just rerun it.\n",
    "\n",
    "If you want to know what the code is doing, or to create your own puzzles, see the guide [here](game_engines/Making_your_own_hello_quantum.ipynb)."
   ]
  },
  {
   "cell_type": "markdown",
   "metadata": {},
   "source": [
    "## Level 1\n",
    "\n",
    "### Intro\n",
    "* Normal computers are made of bits, and quantum computers are made of qubits.\n",
    "* Qubits are basically an upgraded version of bits, so let's make sure we understand basic bit-based programming first.\n",
    "* The defining feature of a bit is that it has two possible output values.\n",
    "* These are often called `1` and `0`, though we'll also be thinking of them as _on_ and _off_.\n",
    "* We use bits represent and process information, but we typically need lots of them to do this.\n",
    "* To help you understand how to manipulate bits, we'll give you one to play with.\n",
    "* The simplest thing you can do to a bit (other than leave it alone) is the `NOT` operation.\n",
    "* Try it out and see what happens.\n",
    "\n",
    "### Exercise\n",
    "*  Use the `NOT` command 3 times."
   ]
  },
  {
   "cell_type": "code",
   "execution_count": 10,
   "metadata": {
    "scrolled": false
   },
   "outputs": [
    {
     "data": {
      "application/javascript": [
       "/* Put everything inside the global mpl namespace */\n",
       "window.mpl = {};\n",
       "\n",
       "\n",
       "mpl.get_websocket_type = function() {\n",
       "    if (typeof(WebSocket) !== 'undefined') {\n",
       "        return WebSocket;\n",
       "    } else if (typeof(MozWebSocket) !== 'undefined') {\n",
       "        return MozWebSocket;\n",
       "    } else {\n",
       "        alert('Your browser does not have WebSocket support.' +\n",
       "              'Please try Chrome, Safari or Firefox ≥ 6. ' +\n",
       "              'Firefox 4 and 5 are also supported but you ' +\n",
       "              'have to enable WebSockets in about:config.');\n",
       "    };\n",
       "}\n",
       "\n",
       "mpl.figure = function(figure_id, websocket, ondownload, parent_element) {\n",
       "    this.id = figure_id;\n",
       "\n",
       "    this.ws = websocket;\n",
       "\n",
       "    this.supports_binary = (this.ws.binaryType != undefined);\n",
       "\n",
       "    if (!this.supports_binary) {\n",
       "        var warnings = document.getElementById(\"mpl-warnings\");\n",
       "        if (warnings) {\n",
       "            warnings.style.display = 'block';\n",
       "            warnings.textContent = (\n",
       "                \"This browser does not support binary websocket messages. \" +\n",
       "                    \"Performance may be slow.\");\n",
       "        }\n",
       "    }\n",
       "\n",
       "    this.imageObj = new Image();\n",
       "\n",
       "    this.context = undefined;\n",
       "    this.message = undefined;\n",
       "    this.canvas = undefined;\n",
       "    this.rubberband_canvas = undefined;\n",
       "    this.rubberband_context = undefined;\n",
       "    this.format_dropdown = undefined;\n",
       "\n",
       "    this.image_mode = 'full';\n",
       "\n",
       "    this.root = $('<div/>');\n",
       "    this._root_extra_style(this.root)\n",
       "    this.root.attr('style', 'display: inline-block');\n",
       "\n",
       "    $(parent_element).append(this.root);\n",
       "\n",
       "    this._init_header(this);\n",
       "    this._init_canvas(this);\n",
       "    this._init_toolbar(this);\n",
       "\n",
       "    var fig = this;\n",
       "\n",
       "    this.waiting = false;\n",
       "\n",
       "    this.ws.onopen =  function () {\n",
       "            fig.send_message(\"supports_binary\", {value: fig.supports_binary});\n",
       "            fig.send_message(\"send_image_mode\", {});\n",
       "            if (mpl.ratio != 1) {\n",
       "                fig.send_message(\"set_dpi_ratio\", {'dpi_ratio': mpl.ratio});\n",
       "            }\n",
       "            fig.send_message(\"refresh\", {});\n",
       "        }\n",
       "\n",
       "    this.imageObj.onload = function() {\n",
       "            if (fig.image_mode == 'full') {\n",
       "                // Full images could contain transparency (where diff images\n",
       "                // almost always do), so we need to clear the canvas so that\n",
       "                // there is no ghosting.\n",
       "                fig.context.clearRect(0, 0, fig.canvas.width, fig.canvas.height);\n",
       "            }\n",
       "            fig.context.drawImage(fig.imageObj, 0, 0);\n",
       "        };\n",
       "\n",
       "    this.imageObj.onunload = function() {\n",
       "        fig.ws.close();\n",
       "    }\n",
       "\n",
       "    this.ws.onmessage = this._make_on_message_function(this);\n",
       "\n",
       "    this.ondownload = ondownload;\n",
       "}\n",
       "\n",
       "mpl.figure.prototype._init_header = function() {\n",
       "    var titlebar = $(\n",
       "        '<div class=\"ui-dialog-titlebar ui-widget-header ui-corner-all ' +\n",
       "        'ui-helper-clearfix\"/>');\n",
       "    var titletext = $(\n",
       "        '<div class=\"ui-dialog-title\" style=\"width: 100%; ' +\n",
       "        'text-align: center; padding: 3px;\"/>');\n",
       "    titlebar.append(titletext)\n",
       "    this.root.append(titlebar);\n",
       "    this.header = titletext[0];\n",
       "}\n",
       "\n",
       "\n",
       "\n",
       "mpl.figure.prototype._canvas_extra_style = function(canvas_div) {\n",
       "\n",
       "}\n",
       "\n",
       "\n",
       "mpl.figure.prototype._root_extra_style = function(canvas_div) {\n",
       "\n",
       "}\n",
       "\n",
       "mpl.figure.prototype._init_canvas = function() {\n",
       "    var fig = this;\n",
       "\n",
       "    var canvas_div = $('<div/>');\n",
       "\n",
       "    canvas_div.attr('style', 'position: relative; clear: both; outline: 0');\n",
       "\n",
       "    function canvas_keyboard_event(event) {\n",
       "        return fig.key_event(event, event['data']);\n",
       "    }\n",
       "\n",
       "    canvas_div.keydown('key_press', canvas_keyboard_event);\n",
       "    canvas_div.keyup('key_release', canvas_keyboard_event);\n",
       "    this.canvas_div = canvas_div\n",
       "    this._canvas_extra_style(canvas_div)\n",
       "    this.root.append(canvas_div);\n",
       "\n",
       "    var canvas = $('<canvas/>');\n",
       "    canvas.addClass('mpl-canvas');\n",
       "    canvas.attr('style', \"left: 0; top: 0; z-index: 0; outline: 0\")\n",
       "\n",
       "    this.canvas = canvas[0];\n",
       "    this.context = canvas[0].getContext(\"2d\");\n",
       "\n",
       "    var backingStore = this.context.backingStorePixelRatio ||\n",
       "\tthis.context.webkitBackingStorePixelRatio ||\n",
       "\tthis.context.mozBackingStorePixelRatio ||\n",
       "\tthis.context.msBackingStorePixelRatio ||\n",
       "\tthis.context.oBackingStorePixelRatio ||\n",
       "\tthis.context.backingStorePixelRatio || 1;\n",
       "\n",
       "    mpl.ratio = (window.devicePixelRatio || 1) / backingStore;\n",
       "\n",
       "    var rubberband = $('<canvas/>');\n",
       "    rubberband.attr('style', \"position: absolute; left: 0; top: 0; z-index: 1;\")\n",
       "\n",
       "    var pass_mouse_events = true;\n",
       "\n",
       "    canvas_div.resizable({\n",
       "        start: function(event, ui) {\n",
       "            pass_mouse_events = false;\n",
       "        },\n",
       "        resize: function(event, ui) {\n",
       "            fig.request_resize(ui.size.width, ui.size.height);\n",
       "        },\n",
       "        stop: function(event, ui) {\n",
       "            pass_mouse_events = true;\n",
       "            fig.request_resize(ui.size.width, ui.size.height);\n",
       "        },\n",
       "    });\n",
       "\n",
       "    function mouse_event_fn(event) {\n",
       "        if (pass_mouse_events)\n",
       "            return fig.mouse_event(event, event['data']);\n",
       "    }\n",
       "\n",
       "    rubberband.mousedown('button_press', mouse_event_fn);\n",
       "    rubberband.mouseup('button_release', mouse_event_fn);\n",
       "    // Throttle sequential mouse events to 1 every 20ms.\n",
       "    rubberband.mousemove('motion_notify', mouse_event_fn);\n",
       "\n",
       "    rubberband.mouseenter('figure_enter', mouse_event_fn);\n",
       "    rubberband.mouseleave('figure_leave', mouse_event_fn);\n",
       "\n",
       "    canvas_div.on(\"wheel\", function (event) {\n",
       "        event = event.originalEvent;\n",
       "        event['data'] = 'scroll'\n",
       "        if (event.deltaY < 0) {\n",
       "            event.step = 1;\n",
       "        } else {\n",
       "            event.step = -1;\n",
       "        }\n",
       "        mouse_event_fn(event);\n",
       "    });\n",
       "\n",
       "    canvas_div.append(canvas);\n",
       "    canvas_div.append(rubberband);\n",
       "\n",
       "    this.rubberband = rubberband;\n",
       "    this.rubberband_canvas = rubberband[0];\n",
       "    this.rubberband_context = rubberband[0].getContext(\"2d\");\n",
       "    this.rubberband_context.strokeStyle = \"#000000\";\n",
       "\n",
       "    this._resize_canvas = function(width, height) {\n",
       "        // Keep the size of the canvas, canvas container, and rubber band\n",
       "        // canvas in synch.\n",
       "        canvas_div.css('width', width)\n",
       "        canvas_div.css('height', height)\n",
       "\n",
       "        canvas.attr('width', width * mpl.ratio);\n",
       "        canvas.attr('height', height * mpl.ratio);\n",
       "        canvas.attr('style', 'width: ' + width + 'px; height: ' + height + 'px;');\n",
       "\n",
       "        rubberband.attr('width', width);\n",
       "        rubberband.attr('height', height);\n",
       "    }\n",
       "\n",
       "    // Set the figure to an initial 600x600px, this will subsequently be updated\n",
       "    // upon first draw.\n",
       "    this._resize_canvas(600, 600);\n",
       "\n",
       "    // Disable right mouse context menu.\n",
       "    $(this.rubberband_canvas).bind(\"contextmenu\",function(e){\n",
       "        return false;\n",
       "    });\n",
       "\n",
       "    function set_focus () {\n",
       "        canvas.focus();\n",
       "        canvas_div.focus();\n",
       "    }\n",
       "\n",
       "    window.setTimeout(set_focus, 100);\n",
       "}\n",
       "\n",
       "mpl.figure.prototype._init_toolbar = function() {\n",
       "    var fig = this;\n",
       "\n",
       "    var nav_element = $('<div/>')\n",
       "    nav_element.attr('style', 'width: 100%');\n",
       "    this.root.append(nav_element);\n",
       "\n",
       "    // Define a callback function for later on.\n",
       "    function toolbar_event(event) {\n",
       "        return fig.toolbar_button_onclick(event['data']);\n",
       "    }\n",
       "    function toolbar_mouse_event(event) {\n",
       "        return fig.toolbar_button_onmouseover(event['data']);\n",
       "    }\n",
       "\n",
       "    for(var toolbar_ind in mpl.toolbar_items) {\n",
       "        var name = mpl.toolbar_items[toolbar_ind][0];\n",
       "        var tooltip = mpl.toolbar_items[toolbar_ind][1];\n",
       "        var image = mpl.toolbar_items[toolbar_ind][2];\n",
       "        var method_name = mpl.toolbar_items[toolbar_ind][3];\n",
       "\n",
       "        if (!name) {\n",
       "            // put a spacer in here.\n",
       "            continue;\n",
       "        }\n",
       "        var button = $('<button/>');\n",
       "        button.addClass('ui-button ui-widget ui-state-default ui-corner-all ' +\n",
       "                        'ui-button-icon-only');\n",
       "        button.attr('role', 'button');\n",
       "        button.attr('aria-disabled', 'false');\n",
       "        button.click(method_name, toolbar_event);\n",
       "        button.mouseover(tooltip, toolbar_mouse_event);\n",
       "\n",
       "        var icon_img = $('<span/>');\n",
       "        icon_img.addClass('ui-button-icon-primary ui-icon');\n",
       "        icon_img.addClass(image);\n",
       "        icon_img.addClass('ui-corner-all');\n",
       "\n",
       "        var tooltip_span = $('<span/>');\n",
       "        tooltip_span.addClass('ui-button-text');\n",
       "        tooltip_span.html(tooltip);\n",
       "\n",
       "        button.append(icon_img);\n",
       "        button.append(tooltip_span);\n",
       "\n",
       "        nav_element.append(button);\n",
       "    }\n",
       "\n",
       "    var fmt_picker_span = $('<span/>');\n",
       "\n",
       "    var fmt_picker = $('<select/>');\n",
       "    fmt_picker.addClass('mpl-toolbar-option ui-widget ui-widget-content');\n",
       "    fmt_picker_span.append(fmt_picker);\n",
       "    nav_element.append(fmt_picker_span);\n",
       "    this.format_dropdown = fmt_picker[0];\n",
       "\n",
       "    for (var ind in mpl.extensions) {\n",
       "        var fmt = mpl.extensions[ind];\n",
       "        var option = $(\n",
       "            '<option/>', {selected: fmt === mpl.default_extension}).html(fmt);\n",
       "        fmt_picker.append(option)\n",
       "    }\n",
       "\n",
       "    // Add hover states to the ui-buttons\n",
       "    $( \".ui-button\" ).hover(\n",
       "        function() { $(this).addClass(\"ui-state-hover\");},\n",
       "        function() { $(this).removeClass(\"ui-state-hover\");}\n",
       "    );\n",
       "\n",
       "    var status_bar = $('<span class=\"mpl-message\"/>');\n",
       "    nav_element.append(status_bar);\n",
       "    this.message = status_bar[0];\n",
       "}\n",
       "\n",
       "mpl.figure.prototype.request_resize = function(x_pixels, y_pixels) {\n",
       "    // Request matplotlib to resize the figure. Matplotlib will then trigger a resize in the client,\n",
       "    // which will in turn request a refresh of the image.\n",
       "    this.send_message('resize', {'width': x_pixels, 'height': y_pixels});\n",
       "}\n",
       "\n",
       "mpl.figure.prototype.send_message = function(type, properties) {\n",
       "    properties['type'] = type;\n",
       "    properties['figure_id'] = this.id;\n",
       "    this.ws.send(JSON.stringify(properties));\n",
       "}\n",
       "\n",
       "mpl.figure.prototype.send_draw_message = function() {\n",
       "    if (!this.waiting) {\n",
       "        this.waiting = true;\n",
       "        this.ws.send(JSON.stringify({type: \"draw\", figure_id: this.id}));\n",
       "    }\n",
       "}\n",
       "\n",
       "\n",
       "mpl.figure.prototype.handle_save = function(fig, msg) {\n",
       "    var format_dropdown = fig.format_dropdown;\n",
       "    var format = format_dropdown.options[format_dropdown.selectedIndex].value;\n",
       "    fig.ondownload(fig, format);\n",
       "}\n",
       "\n",
       "\n",
       "mpl.figure.prototype.handle_resize = function(fig, msg) {\n",
       "    var size = msg['size'];\n",
       "    if (size[0] != fig.canvas.width || size[1] != fig.canvas.height) {\n",
       "        fig._resize_canvas(size[0], size[1]);\n",
       "        fig.send_message(\"refresh\", {});\n",
       "    };\n",
       "}\n",
       "\n",
       "mpl.figure.prototype.handle_rubberband = function(fig, msg) {\n",
       "    var x0 = msg['x0'] / mpl.ratio;\n",
       "    var y0 = (fig.canvas.height - msg['y0']) / mpl.ratio;\n",
       "    var x1 = msg['x1'] / mpl.ratio;\n",
       "    var y1 = (fig.canvas.height - msg['y1']) / mpl.ratio;\n",
       "    x0 = Math.floor(x0) + 0.5;\n",
       "    y0 = Math.floor(y0) + 0.5;\n",
       "    x1 = Math.floor(x1) + 0.5;\n",
       "    y1 = Math.floor(y1) + 0.5;\n",
       "    var min_x = Math.min(x0, x1);\n",
       "    var min_y = Math.min(y0, y1);\n",
       "    var width = Math.abs(x1 - x0);\n",
       "    var height = Math.abs(y1 - y0);\n",
       "\n",
       "    fig.rubberband_context.clearRect(\n",
       "        0, 0, fig.canvas.width, fig.canvas.height);\n",
       "\n",
       "    fig.rubberband_context.strokeRect(min_x, min_y, width, height);\n",
       "}\n",
       "\n",
       "mpl.figure.prototype.handle_figure_label = function(fig, msg) {\n",
       "    // Updates the figure title.\n",
       "    fig.header.textContent = msg['label'];\n",
       "}\n",
       "\n",
       "mpl.figure.prototype.handle_cursor = function(fig, msg) {\n",
       "    var cursor = msg['cursor'];\n",
       "    switch(cursor)\n",
       "    {\n",
       "    case 0:\n",
       "        cursor = 'pointer';\n",
       "        break;\n",
       "    case 1:\n",
       "        cursor = 'default';\n",
       "        break;\n",
       "    case 2:\n",
       "        cursor = 'crosshair';\n",
       "        break;\n",
       "    case 3:\n",
       "        cursor = 'move';\n",
       "        break;\n",
       "    }\n",
       "    fig.rubberband_canvas.style.cursor = cursor;\n",
       "}\n",
       "\n",
       "mpl.figure.prototype.handle_message = function(fig, msg) {\n",
       "    fig.message.textContent = msg['message'];\n",
       "}\n",
       "\n",
       "mpl.figure.prototype.handle_draw = function(fig, msg) {\n",
       "    // Request the server to send over a new figure.\n",
       "    fig.send_draw_message();\n",
       "}\n",
       "\n",
       "mpl.figure.prototype.handle_image_mode = function(fig, msg) {\n",
       "    fig.image_mode = msg['mode'];\n",
       "}\n",
       "\n",
       "mpl.figure.prototype.updated_canvas_event = function() {\n",
       "    // Called whenever the canvas gets updated.\n",
       "    this.send_message(\"ack\", {});\n",
       "}\n",
       "\n",
       "// A function to construct a web socket function for onmessage handling.\n",
       "// Called in the figure constructor.\n",
       "mpl.figure.prototype._make_on_message_function = function(fig) {\n",
       "    return function socket_on_message(evt) {\n",
       "        if (evt.data instanceof Blob) {\n",
       "            /* FIXME: We get \"Resource interpreted as Image but\n",
       "             * transferred with MIME type text/plain:\" errors on\n",
       "             * Chrome.  But how to set the MIME type?  It doesn't seem\n",
       "             * to be part of the websocket stream */\n",
       "            evt.data.type = \"image/png\";\n",
       "\n",
       "            /* Free the memory for the previous frames */\n",
       "            if (fig.imageObj.src) {\n",
       "                (window.URL || window.webkitURL).revokeObjectURL(\n",
       "                    fig.imageObj.src);\n",
       "            }\n",
       "\n",
       "            fig.imageObj.src = (window.URL || window.webkitURL).createObjectURL(\n",
       "                evt.data);\n",
       "            fig.updated_canvas_event();\n",
       "            fig.waiting = false;\n",
       "            return;\n",
       "        }\n",
       "        else if (typeof evt.data === 'string' && evt.data.slice(0, 21) == \"data:image/png;base64\") {\n",
       "            fig.imageObj.src = evt.data;\n",
       "            fig.updated_canvas_event();\n",
       "            fig.waiting = false;\n",
       "            return;\n",
       "        }\n",
       "\n",
       "        var msg = JSON.parse(evt.data);\n",
       "        var msg_type = msg['type'];\n",
       "\n",
       "        // Call the  \"handle_{type}\" callback, which takes\n",
       "        // the figure and JSON message as its only arguments.\n",
       "        try {\n",
       "            var callback = fig[\"handle_\" + msg_type];\n",
       "        } catch (e) {\n",
       "            console.log(\"No handler for the '\" + msg_type + \"' message type: \", msg);\n",
       "            return;\n",
       "        }\n",
       "\n",
       "        if (callback) {\n",
       "            try {\n",
       "                // console.log(\"Handling '\" + msg_type + \"' message: \", msg);\n",
       "                callback(fig, msg);\n",
       "            } catch (e) {\n",
       "                console.log(\"Exception inside the 'handler_\" + msg_type + \"' callback:\", e, e.stack, msg);\n",
       "            }\n",
       "        }\n",
       "    };\n",
       "}\n",
       "\n",
       "// from http://stackoverflow.com/questions/1114465/getting-mouse-location-in-canvas\n",
       "mpl.findpos = function(e) {\n",
       "    //this section is from http://www.quirksmode.org/js/events_properties.html\n",
       "    var targ;\n",
       "    if (!e)\n",
       "        e = window.event;\n",
       "    if (e.target)\n",
       "        targ = e.target;\n",
       "    else if (e.srcElement)\n",
       "        targ = e.srcElement;\n",
       "    if (targ.nodeType == 3) // defeat Safari bug\n",
       "        targ = targ.parentNode;\n",
       "\n",
       "    // jQuery normalizes the pageX and pageY\n",
       "    // pageX,Y are the mouse positions relative to the document\n",
       "    // offset() returns the position of the element relative to the document\n",
       "    var x = e.pageX - $(targ).offset().left;\n",
       "    var y = e.pageY - $(targ).offset().top;\n",
       "\n",
       "    return {\"x\": x, \"y\": y};\n",
       "};\n",
       "\n",
       "/*\n",
       " * return a copy of an object with only non-object keys\n",
       " * we need this to avoid circular references\n",
       " * http://stackoverflow.com/a/24161582/3208463\n",
       " */\n",
       "function simpleKeys (original) {\n",
       "  return Object.keys(original).reduce(function (obj, key) {\n",
       "    if (typeof original[key] !== 'object')\n",
       "        obj[key] = original[key]\n",
       "    return obj;\n",
       "  }, {});\n",
       "}\n",
       "\n",
       "mpl.figure.prototype.mouse_event = function(event, name) {\n",
       "    var canvas_pos = mpl.findpos(event)\n",
       "\n",
       "    if (name === 'button_press')\n",
       "    {\n",
       "        this.canvas.focus();\n",
       "        this.canvas_div.focus();\n",
       "    }\n",
       "\n",
       "    var x = canvas_pos.x * mpl.ratio;\n",
       "    var y = canvas_pos.y * mpl.ratio;\n",
       "\n",
       "    this.send_message(name, {x: x, y: y, button: event.button,\n",
       "                             step: event.step,\n",
       "                             guiEvent: simpleKeys(event)});\n",
       "\n",
       "    /* This prevents the web browser from automatically changing to\n",
       "     * the text insertion cursor when the button is pressed.  We want\n",
       "     * to control all of the cursor setting manually through the\n",
       "     * 'cursor' event from matplotlib */\n",
       "    event.preventDefault();\n",
       "    return false;\n",
       "}\n",
       "\n",
       "mpl.figure.prototype._key_event_extra = function(event, name) {\n",
       "    // Handle any extra behaviour associated with a key event\n",
       "}\n",
       "\n",
       "mpl.figure.prototype.key_event = function(event, name) {\n",
       "\n",
       "    // Prevent repeat events\n",
       "    if (name == 'key_press')\n",
       "    {\n",
       "        if (event.which === this._key)\n",
       "            return;\n",
       "        else\n",
       "            this._key = event.which;\n",
       "    }\n",
       "    if (name == 'key_release')\n",
       "        this._key = null;\n",
       "\n",
       "    var value = '';\n",
       "    if (event.ctrlKey && event.which != 17)\n",
       "        value += \"ctrl+\";\n",
       "    if (event.altKey && event.which != 18)\n",
       "        value += \"alt+\";\n",
       "    if (event.shiftKey && event.which != 16)\n",
       "        value += \"shift+\";\n",
       "\n",
       "    value += 'k';\n",
       "    value += event.which.toString();\n",
       "\n",
       "    this._key_event_extra(event, name);\n",
       "\n",
       "    this.send_message(name, {key: value,\n",
       "                             guiEvent: simpleKeys(event)});\n",
       "    return false;\n",
       "}\n",
       "\n",
       "mpl.figure.prototype.toolbar_button_onclick = function(name) {\n",
       "    if (name == 'download') {\n",
       "        this.handle_save(this, null);\n",
       "    } else {\n",
       "        this.send_message(\"toolbar_button\", {name: name});\n",
       "    }\n",
       "};\n",
       "\n",
       "mpl.figure.prototype.toolbar_button_onmouseover = function(tooltip) {\n",
       "    this.message.textContent = tooltip;\n",
       "};\n",
       "mpl.toolbar_items = [[\"Home\", \"Reset original view\", \"fa fa-home icon-home\", \"home\"], [\"Back\", \"Back to previous view\", \"fa fa-arrow-left icon-arrow-left\", \"back\"], [\"Forward\", \"Forward to next view\", \"fa fa-arrow-right icon-arrow-right\", \"forward\"], [\"\", \"\", \"\", \"\"], [\"Pan\", \"Pan axes with left mouse, zoom with right\", \"fa fa-arrows icon-move\", \"pan\"], [\"Zoom\", \"Zoom to rectangle\", \"fa fa-square-o icon-check-empty\", \"zoom\"], [\"\", \"\", \"\", \"\"], [\"Download\", \"Download plot\", \"fa fa-floppy-o icon-save\", \"download\"]];\n",
       "\n",
       "mpl.extensions = [\"eps\", \"jpeg\", \"pdf\", \"png\", \"ps\", \"raw\", \"svg\", \"tif\"];\n",
       "\n",
       "mpl.default_extension = \"png\";var comm_websocket_adapter = function(comm) {\n",
       "    // Create a \"websocket\"-like object which calls the given IPython comm\n",
       "    // object with the appropriate methods. Currently this is a non binary\n",
       "    // socket, so there is still some room for performance tuning.\n",
       "    var ws = {};\n",
       "\n",
       "    ws.close = function() {\n",
       "        comm.close()\n",
       "    };\n",
       "    ws.send = function(m) {\n",
       "        //console.log('sending', m);\n",
       "        comm.send(m);\n",
       "    };\n",
       "    // Register the callback with on_msg.\n",
       "    comm.on_msg(function(msg) {\n",
       "        //console.log('receiving', msg['content']['data'], msg);\n",
       "        // Pass the mpl event to the overridden (by mpl) onmessage function.\n",
       "        ws.onmessage(msg['content']['data'])\n",
       "    });\n",
       "    return ws;\n",
       "}\n",
       "\n",
       "mpl.mpl_figure_comm = function(comm, msg) {\n",
       "    // This is the function which gets called when the mpl process\n",
       "    // starts-up an IPython Comm through the \"matplotlib\" channel.\n",
       "\n",
       "    var id = msg.content.data.id;\n",
       "    // Get hold of the div created by the display call when the Comm\n",
       "    // socket was opened in Python.\n",
       "    var element = $(\"#\" + id);\n",
       "    var ws_proxy = comm_websocket_adapter(comm)\n",
       "\n",
       "    function ondownload(figure, format) {\n",
       "        window.open(figure.imageObj.src);\n",
       "    }\n",
       "\n",
       "    var fig = new mpl.figure(id, ws_proxy,\n",
       "                           ondownload,\n",
       "                           element.get(0));\n",
       "\n",
       "    // Call onopen now - mpl needs it, as it is assuming we've passed it a real\n",
       "    // web socket which is closed, not our websocket->open comm proxy.\n",
       "    ws_proxy.onopen();\n",
       "\n",
       "    fig.parent_element = element.get(0);\n",
       "    fig.cell_info = mpl.find_output_cell(\"<div id='\" + id + \"'></div>\");\n",
       "    if (!fig.cell_info) {\n",
       "        console.error(\"Failed to find cell for figure\", id, fig);\n",
       "        return;\n",
       "    }\n",
       "\n",
       "    var output_index = fig.cell_info[2]\n",
       "    var cell = fig.cell_info[0];\n",
       "\n",
       "};\n",
       "\n",
       "mpl.figure.prototype.handle_close = function(fig, msg) {\n",
       "    var width = fig.canvas.width/mpl.ratio\n",
       "    fig.root.unbind('remove')\n",
       "\n",
       "    // Update the output cell to use the data from the current canvas.\n",
       "    fig.push_to_output();\n",
       "    var dataURL = fig.canvas.toDataURL();\n",
       "    // Re-enable the keyboard manager in IPython - without this line, in FF,\n",
       "    // the notebook keyboard shortcuts fail.\n",
       "    IPython.keyboard_manager.enable()\n",
       "    $(fig.parent_element).html('<img src=\"' + dataURL + '\" width=\"' + width + '\">');\n",
       "    fig.close_ws(fig, msg);\n",
       "}\n",
       "\n",
       "mpl.figure.prototype.close_ws = function(fig, msg){\n",
       "    fig.send_message('closing', msg);\n",
       "    // fig.ws.close()\n",
       "}\n",
       "\n",
       "mpl.figure.prototype.push_to_output = function(remove_interactive) {\n",
       "    // Turn the data on the canvas into data in the output cell.\n",
       "    var width = this.canvas.width/mpl.ratio\n",
       "    var dataURL = this.canvas.toDataURL();\n",
       "    this.cell_info[1]['text/html'] = '<img src=\"' + dataURL + '\" width=\"' + width + '\">';\n",
       "}\n",
       "\n",
       "mpl.figure.prototype.updated_canvas_event = function() {\n",
       "    // Tell IPython that the notebook contents must change.\n",
       "    IPython.notebook.set_dirty(true);\n",
       "    this.send_message(\"ack\", {});\n",
       "    var fig = this;\n",
       "    // Wait a second, then push the new image to the DOM so\n",
       "    // that it is saved nicely (might be nice to debounce this).\n",
       "    setTimeout(function () { fig.push_to_output() }, 1000);\n",
       "}\n",
       "\n",
       "mpl.figure.prototype._init_toolbar = function() {\n",
       "    var fig = this;\n",
       "\n",
       "    var nav_element = $('<div/>')\n",
       "    nav_element.attr('style', 'width: 100%');\n",
       "    this.root.append(nav_element);\n",
       "\n",
       "    // Define a callback function for later on.\n",
       "    function toolbar_event(event) {\n",
       "        return fig.toolbar_button_onclick(event['data']);\n",
       "    }\n",
       "    function toolbar_mouse_event(event) {\n",
       "        return fig.toolbar_button_onmouseover(event['data']);\n",
       "    }\n",
       "\n",
       "    for(var toolbar_ind in mpl.toolbar_items){\n",
       "        var name = mpl.toolbar_items[toolbar_ind][0];\n",
       "        var tooltip = mpl.toolbar_items[toolbar_ind][1];\n",
       "        var image = mpl.toolbar_items[toolbar_ind][2];\n",
       "        var method_name = mpl.toolbar_items[toolbar_ind][3];\n",
       "\n",
       "        if (!name) { continue; };\n",
       "\n",
       "        var button = $('<button class=\"btn btn-default\" href=\"#\" title=\"' + name + '\"><i class=\"fa ' + image + ' fa-lg\"></i></button>');\n",
       "        button.click(method_name, toolbar_event);\n",
       "        button.mouseover(tooltip, toolbar_mouse_event);\n",
       "        nav_element.append(button);\n",
       "    }\n",
       "\n",
       "    // Add the status bar.\n",
       "    var status_bar = $('<span class=\"mpl-message\" style=\"text-align:right; float: right;\"/>');\n",
       "    nav_element.append(status_bar);\n",
       "    this.message = status_bar[0];\n",
       "\n",
       "    // Add the close button to the window.\n",
       "    var buttongrp = $('<div class=\"btn-group inline pull-right\"></div>');\n",
       "    var button = $('<button class=\"btn btn-mini btn-primary\" href=\"#\" title=\"Stop Interaction\"><i class=\"fa fa-power-off icon-remove icon-large\"></i></button>');\n",
       "    button.click(function (evt) { fig.handle_close(fig, {}); } );\n",
       "    button.mouseover('Stop Interaction', toolbar_mouse_event);\n",
       "    buttongrp.append(button);\n",
       "    var titlebar = this.root.find($('.ui-dialog-titlebar'));\n",
       "    titlebar.prepend(buttongrp);\n",
       "}\n",
       "\n",
       "mpl.figure.prototype._root_extra_style = function(el){\n",
       "    var fig = this\n",
       "    el.on(\"remove\", function(){\n",
       "\tfig.close_ws(fig, {});\n",
       "    });\n",
       "}\n",
       "\n",
       "mpl.figure.prototype._canvas_extra_style = function(el){\n",
       "    // this is important to make the div 'focusable\n",
       "    el.attr('tabindex', 0)\n",
       "    // reach out to IPython and tell the keyboard manager to turn it's self\n",
       "    // off when our div gets focus\n",
       "\n",
       "    // location in version 3\n",
       "    if (IPython.notebook.keyboard_manager) {\n",
       "        IPython.notebook.keyboard_manager.register_events(el);\n",
       "    }\n",
       "    else {\n",
       "        // location in version 2\n",
       "        IPython.keyboard_manager.register_events(el);\n",
       "    }\n",
       "\n",
       "}\n",
       "\n",
       "mpl.figure.prototype._key_event_extra = function(event, name) {\n",
       "    var manager = IPython.notebook.keyboard_manager;\n",
       "    if (!manager)\n",
       "        manager = IPython.keyboard_manager;\n",
       "\n",
       "    // Check for shift+enter\n",
       "    if (event.shiftKey && event.which == 13) {\n",
       "        this.canvas_div.blur();\n",
       "        event.shiftKey = false;\n",
       "        // Send a \"J\" for go to next cell\n",
       "        event.which = 74;\n",
       "        event.keyCode = 74;\n",
       "        manager.command_mode();\n",
       "        manager.handle_keydown(event);\n",
       "    }\n",
       "}\n",
       "\n",
       "mpl.figure.prototype.handle_save = function(fig, msg) {\n",
       "    fig.ondownload(fig, null);\n",
       "}\n",
       "\n",
       "\n",
       "mpl.find_output_cell = function(html_output) {\n",
       "    // Return the cell and output element which can be found *uniquely* in the notebook.\n",
       "    // Note - this is a bit hacky, but it is done because the \"notebook_saving.Notebook\"\n",
       "    // IPython event is triggered only after the cells have been serialised, which for\n",
       "    // our purposes (turning an active figure into a static one), is too late.\n",
       "    var cells = IPython.notebook.get_cells();\n",
       "    var ncells = cells.length;\n",
       "    for (var i=0; i<ncells; i++) {\n",
       "        var cell = cells[i];\n",
       "        if (cell.cell_type === 'code'){\n",
       "            for (var j=0; j<cell.output_area.outputs.length; j++) {\n",
       "                var data = cell.output_area.outputs[j];\n",
       "                if (data.data) {\n",
       "                    // IPython >= 3 moved mimebundle to data attribute of output\n",
       "                    data = data.data;\n",
       "                }\n",
       "                if (data['text/html'] == html_output) {\n",
       "                    return [cell, data, j];\n",
       "                }\n",
       "            }\n",
       "        }\n",
       "    }\n",
       "}\n",
       "\n",
       "// Register the function which deals with the matplotlib target/channel.\n",
       "// The kernel may be null if the page has been refreshed.\n",
       "if (IPython.notebook.kernel != null) {\n",
       "    IPython.notebook.kernel.comm_manager.register_target('matplotlib', mpl.mpl_figure_comm);\n",
       "}\n"
      ],
      "text/plain": [
       "<IPython.core.display.Javascript object>"
      ]
     },
     "metadata": {},
     "output_type": "display_data"
    },
    {
     "data": {
      "text/html": [
       "<img src=\"data:image/png;base64,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\" width=\"500\">"
      ],
      "text/plain": [
       "<IPython.core.display.HTML object>"
      ]
     },
     "metadata": {},
     "output_type": "display_data"
    },
    {
     "data": {
      "application/vnd.jupyter.widget-view+json": {
       "model_id": "8c3742197ad547d1bf7762630b82c93d",
       "version_major": 2,
       "version_minor": 0
      },
      "text/plain": [
       "VBox(children=(ToggleButtons(options=('Choose gate', 'NOT'), value='Choose gate'), ToggleButtons(options=('',)…"
      ]
     },
     "metadata": {},
     "output_type": "display_data"
    }
   ],
   "source": [
    "initialize = []\n",
    "success_condition = {}\n",
    "allowed_gates = {'0': {'NOT': 3}, '1': {}, 'both': {}}\n",
    "vi = [[1], False, False]\n",
    "qubit_names = {'0':'the only bit', '1':None}\n",
    "puzzle = hello_quantum.run_game(initialize, success_condition, allowed_gates, vi, qubit_names)"
   ]
  },
  {
   "cell_type": "markdown",
   "metadata": {},
   "source": [
    "### Outro\n",
    "* Here our bit was depicted by a circle that was either on (white) or off (black).\n",
    "* The effect of the `NOT` command was to turn it on and off.\n",
    "* This flips out bit between `0` and `1`."
   ]
  },
  {
   "cell_type": "markdown",
   "metadata": {},
   "source": [
    "## Level 2\n",
    "\n",
    "### Intro\n",
    "* Now let's do the same thing to a different bit.\n",
    "* This will look the same as before. But because it is a different bit, it'll be in a different place.\n",
    "\n",
    "### Exercise\n",
    "*  Turn the other bit on."
   ]
  },
  {
   "cell_type": "code",
   "execution_count": null,
   "metadata": {},
   "outputs": [],
   "source": [
    "initialize = []\n",
    "success_condition = {}\n",
    "allowed_gates = {'0': {}, '1': {'NOT': 0}, 'both': {}}\n",
    "vi = [[], False, False]\n",
    "qubit_names = {'0':'the bit on the left', '1':'the bit on the right'}\n",
    "puzzle = hello_quantum.run_game(initialize, success_condition, allowed_gates, vi, qubit_names)"
   ]
  },
  {
   "cell_type": "markdown",
   "metadata": {},
   "source": [
    "### Outro\n",
    "* You've now mastered the NOT command: the most basic building block of computing."
   ]
  },
  {
   "cell_type": "markdown",
   "metadata": {},
   "source": [
    "## Level 3\n",
    "\n",
    "### Intro\n",
    "* To really process information stored in bits, computers need more than just `NOT`s.\n",
    "* We need commands that let us manipulate some bits in a way that depends on other bits.\n",
    "* The simplest example is the controlled-`NOT`, or `CNOT`.\n",
    "* For this you need to choose one bit to be the _target_, and the other to be the _control_.\n",
    "* The `CNOT` then does a `NOT` on the target bit, but only if the control bit is on.\n",
    "\n",
    "### Exercise\n",
    "* Use the `CNOT` to turn on the bit on the right.\n",
    "* **Note**: The `CNOT` acts on both bits, but you still need to choose which will be the target bit."
   ]
  },
  {
   "cell_type": "code",
   "execution_count": null,
   "metadata": {},
   "outputs": [],
   "source": [
    "initialize = [['x', '0']]\n",
    "success_condition = {'IZ': -1.0}\n",
    "allowed_gates = {'0': {'CNOT': 0}, '1': {'CNOT': 0}, 'both': {}}\n",
    "vi = [[], False, False]\n",
    "qubit_names = {'0':'the bit on the left', '1':'the bit on the right'}\n",
    "puzzle = hello_quantum.run_game(initialize, success_condition, allowed_gates, vi, qubit_names)"
   ]
  },
  {
   "cell_type": "markdown",
   "metadata": {},
   "source": [
    "## Level 4\n",
    "\n",
    "### Intro\n",
    "* Now let's make it so you need a couple of `CNOT`s.\n",
    "\n",
    "### Exercise\n",
    "*  Use some CNOTs to turn the left bit off and the right bit on."
   ]
  },
  {
   "cell_type": "code",
   "execution_count": null,
   "metadata": {},
   "outputs": [],
   "source": [
    "initialize = [['x', '0']]\n",
    "success_condition = {'ZI': 1.0, 'IZ': -1.0}\n",
    "allowed_gates = {'0': {'CNOT': 0}, '1': {'CNOT': 0}, 'both': {}}\n",
    "vi = [[], False, False]\n",
    "qubit_names = {'0':'the bit on the left', '1':'the bit on the right'}\n",
    "puzzle = hello_quantum.run_game(initialize, success_condition, allowed_gates, vi, qubit_names)"
   ]
  },
  {
   "cell_type": "markdown",
   "metadata": {},
   "source": [
    "### Outro\n",
    "* Well done!\n",
    "* These kind of manipulations are what all computing compiles down to\n",
    "* With more bits and a controlled-controlled-`NOT`, you can do everything from Tetris to self-driving cars."
   ]
  },
  {
   "cell_type": "markdown",
   "metadata": {},
   "source": [
    "## Level 5\n",
    "\n",
    "### Intro\n",
    "* Qubits have some similarities to random bit values, so let's take a few exercises to think about randomness.\n",
    "* For a bit that will give us a `0` or `1` with equal probability, we'll use a grey circle.\n",
    "\n",
    "### Exercise\n",
    "*  Make the bit on the right random using a CNOT."
   ]
  },
  {
   "cell_type": "code",
   "execution_count": null,
   "metadata": {},
   "outputs": [],
   "source": [
    "initialize = [['h', '0']]\n",
    "success_condition = {'IZ': 0.0}\n",
    "allowed_gates = {'0': {'CNOT': 0}, '1': {'CNOT': 0}, 'both': {}}\n",
    "vi = [[], False, False]\n",
    "qubit_names = {'0':'the bit on the left', '1':'the bit on the right'}\n",
    "puzzle = hello_quantum.run_game(initialize, success_condition, allowed_gates, vi, qubit_names)"
   ]
  },
  {
   "cell_type": "markdown",
   "metadata": {},
   "source": [
    "### Outro\n",
    "* Well done!\n",
    "* If the left bit was off, the right bit stayed off. If the left bit was on, the right bit got switched on too.\n",
    "* So the random value of the left bit was 'copied' over to the right by the `CNOT`.\n",
    "* This means, despite the randomness, we know that both bits will always output the same result.\n",
    "* This is not the only way of having two random bits. We could also create cases where they are independently random, or always have different results.\n",
    "* How can we keep track of how our randomn bits are correlated?"
   ]
  },
  {
   "cell_type": "markdown",
   "metadata": {},
   "source": [
    "## Level 6\n",
    "\n",
    "### Intro\n",
    "* To keep track of correlations, we'll add another circle.\n",
    "* This doesn't represent a new bit. It simply tells us whether our two bits will agree or not.\n",
    "* It will be off when they agree, on when they don't, and grey when they aren't correlated (so agreements and disagreements are random).\n",
    "\n",
    "### Exercise\n",
    "*  Make the two bits always disagree (that means making the middle circle white)."
   ]
  },
  {
   "cell_type": "code",
   "execution_count": null,
   "metadata": {
    "scrolled": false
   },
   "outputs": [],
   "source": [
    "initialize = [['h', '0']]\n",
    "success_condition = {'ZZ': -1.0}\n",
    "allowed_gates = {'0': {'NOT': 0, 'CNOT': 0}, '1': {'NOT': 0, 'CNOT': 0}, 'both': {}}\n",
    "vi = [[], False, True]\n",
    "qubit_names = {'0':'the bit on the left', '1':'the bit on the right'}\n",
    "puzzle = hello_quantum.run_game(initialize, success_condition, allowed_gates, vi, qubit_names)"
   ]
  },
  {
   "cell_type": "markdown",
   "metadata": {},
   "source": [
    "## Level 7\n",
    "\n",
    "### Intro\n",
    "* Now you know pretty much need all you need to know about bits.\n",
    "* Let's have one more exercise before we move on.\n",
    "\n",
    "### Exercise\n",
    "*  Turn on bit the bit on the right."
   ]
  },
  {
   "cell_type": "code",
   "execution_count": null,
   "metadata": {},
   "outputs": [],
   "source": [
    "initialize = [['h', '1']]\n",
    "success_condition = {'IZ': -1.0}\n",
    "allowed_gates = {'0': {'NOT': 0, 'CNOT': 0}, '1': {'NOT': 0, 'CNOT': 0}, 'both': {}}\n",
    "vi = [[], False, True]\n",
    "qubit_names = {'0':'the bit on the left', '1':'the bit on the right'}\n",
    "puzzle = hello_quantum.run_game(initialize, success_condition, allowed_gates, vi, qubit_names)"
   ]
  },
  {
   "cell_type": "markdown",
   "metadata": {},
   "source": [
    "### Outro\n",
    "* Time to move on to qubits!"
   ]
  },
  {
   "cell_type": "markdown",
   "metadata": {},
   "source": [
    "## Chapter 2: Basic single qubit operations"
   ]
  },
  {
   "cell_type": "markdown",
   "metadata": {},
   "source": [
    "## Level 1\n",
    "\n",
    "### Intro\n",
    "* There are many types of variables that you can have in a computer program.\n",
    "* Here we introduce you to a new one: the qubit.\n",
    "* Before we explain what they are, we'll give you one to play with.\n",
    "\n",
    "###  Exercise\n",
    "* Use the `x` command 3 times, and see what happens"
   ]
  },
  {
   "cell_type": "code",
   "execution_count": null,
   "metadata": {
    "scrolled": false
   },
   "outputs": [],
   "source": [
    "initialize = [ [\"x\",\"0\"] ]\n",
    "success_condition = {\"ZI\":1.0}\n",
    "allowed_gates = { \"0\":{\"x\":3}, \"1\":{}, \"both\":{} }\n",
    "vi = [[1],True,True]\n",
    "qubit_names = {'0':'the only qubit', '1':None}\n",
    "puzzle = hello_quantum.run_game(initialize, success_condition, allowed_gates, vi, qubit_names)"
   ]
  },
  {
   "cell_type": "markdown",
   "metadata": {},
   "source": [
    "## Level 2\n",
    "\n",
    "### Intro\n",
    "* You have now mastered turning a circle on and off :) \n",
    "* But what does that actually mean? What is it useful for? To answer that, you need to know something about qubits.\n",
    "* Basically, they are quantum objects from which we can extract a simple bit value: `0` or `1`.\n",
    "* There are many ways we can do this, and the result we get depends on the method we use.\n",
    "* The two circles in the last puzzle represent two different ways we could get a bit out of the same qubit.\n",
    "* They are usual called $Z$ measurements and $X$ measurements, but we'll simply call them the top and bottom outputs in this tutorial.\n",
    "* A black circle means that the corresponding output would give the value `0`. A white one means we'd get a `1`.\n",
    "* The `x` command has the effect of a `NOT` that acts only on the bottom output.\n",
    "\n",
    "### Exercise\n",
    "*  Turn off the bottom circle."
   ]
  },
  {
   "cell_type": "code",
   "execution_count": null,
   "metadata": {},
   "outputs": [],
   "source": [
    "initialize = [['x', '0']]\n",
    "success_condition = {'ZI': 1.0}\n",
    "allowed_gates = {'0': {'x': 0}, '1': {}, 'both': {}}\n",
    "vi = [[1], True, True]\n",
    "qubit_names = {'0':'the only qubit', '1':None}\n",
    "puzzle = hello_quantum.run_game(initialize, success_condition, allowed_gates, vi, qubit_names)"
   ]
  },
  {
   "cell_type": "markdown",
   "metadata": {},
   "source": [
    "### Outro\n",
    "* The process of extracting a bit from a qubit is called 'measurement'. The `measure` command in Qiskit always extracts the bit from the bottom output.\n",
    "* The top output is acquired indirectly, using the `h` command that you will learn about soon."
   ]
  },
  {
   "cell_type": "markdown",
   "metadata": {},
   "source": [
    "## Level 3\n",
    "\n",
    "### Intro\n",
    "* Now let's look at another qubit.\n",
    "* This will also have its inner workings represented by two circles.\n",
    "* But because it's a different qubit, these circles are in a different place.\n",
    "\n",
    "### Exercise\n",
    "*  Turn the bottom circle of the other qubit off."
   ]
  },
  {
   "cell_type": "code",
   "execution_count": null,
   "metadata": {},
   "outputs": [],
   "source": [
    "initialize = [['x', '1']]\n",
    "success_condition = {'IZ': 1.0}\n",
    "allowed_gates = {'0': {}, '1': {'x': 0}, 'both': {}}\n",
    "vi = [[0], True, True]\n",
    "qubit_names = {'0':None, '1':'the other qubit'}\n",
    "puzzle = hello_quantum.run_game(initialize, success_condition, allowed_gates, vi, qubit_names)"
   ]
  },
  {
   "cell_type": "markdown",
   "metadata": {},
   "source": [
    "### Outro\n",
    "* Just above you should see 'Your quantum program so far'.\n",
    "* This is the record of the moves you've made, written as a quantum program with Qiskit.\n",
    "* From now on, we'll start calling the qubits by the same names that the Qiskit program does\n",
    "* The one on the left will be _qubit 0_, and the one on the right will be _qubit 1_."
   ]
  },
  {
   "cell_type": "markdown",
   "metadata": {},
   "source": [
    "## Level 4\n",
    "\n",
    "### Intro\n",
    "* Now it's time to try a new command: the `h` command.\n",
    "* This swaps the two circles of the qubit that it's applied to.\n",
    "* If you want to see this in a nice animated form, check out the [Hello Quantum](https://helloquantum.mybluemix.net/) app.\n",
    "* But while you are here, test it out with the old trick of repeating three times.\n",
    "\n",
    "### Exercise\n",
    "*  Use the `h` command 3 times."
   ]
  },
  {
   "cell_type": "code",
   "execution_count": null,
   "metadata": {},
   "outputs": [],
   "source": [
    "initialize = []\n",
    "success_condition = {'ZI': 0.0}\n",
    "allowed_gates = {'0': {'h': 3}, '1': {}, 'both': {}}\n",
    "vi = [[1], True, True]\n",
    "qubit_names = {'0':'qubit 0', '1':'qubit 1'}\n",
    "puzzle = hello_quantum.run_game(initialize, success_condition, allowed_gates, vi, qubit_names)"
   ]
  },
  {
   "cell_type": "markdown",
   "metadata": {},
   "source": [
    "### Outro\n",
    "* This can be used to make our bottom circle become grey.\n",
    "* Grey circles represent an output that randomly gives a `0` or a `1`."
   ]
  },
  {
   "cell_type": "markdown",
   "metadata": {},
   "source": [
    "## Level 5\n",
    "\n",
    "### Intro\n",
    "* We know what `x` does to a circle that's fully off (it turns it on) or fully on (it turns it off).\n",
    "* But what does it do to one of these random grey ones?\n",
    "* By solving this exercise, you'll find out.\n",
    "\n",
    "### Exercise\n",
    "*  Get the bottom circle fully off. You can use as many `h` commands as you like, but use `x` exactly 3 times."
   ]
  },
  {
   "cell_type": "code",
   "execution_count": null,
   "metadata": {},
   "outputs": [],
   "source": [
    "initialize = [['h', '1']]\n",
    "success_condition = {'IZ': 1.0}\n",
    "allowed_gates = {'0': {}, '1': {'x': 3, 'h': 0}, 'both': {}}\n",
    "vi = [[0], True, True]\n",
    "qubit_names = {'0':'qubit 0', '1':'qubit 1'}\n",
    "puzzle = hello_quantum.run_game(initialize, success_condition, allowed_gates, vi, qubit_names)"
   ]
  },
  {
   "cell_type": "markdown",
   "metadata": {},
   "source": [
    "### Outro\n",
    "* It turns out that a random result is just a random result, even if you flip it."
   ]
  },
  {
   "cell_type": "markdown",
   "metadata": {},
   "source": [
    "## Level 6\n",
    "\n",
    "### Intro\n",
    "* Another important command is called `z`.\n",
    "* This works similar to `x`, except that it acts as a `NOT` on the top circle instead of the bottom.\n",
    "\n",
    "### Exercise\n",
    "*  Turn the top circle off."
   ]
  },
  {
   "cell_type": "code",
   "execution_count": null,
   "metadata": {},
   "outputs": [],
   "source": [
    "initialize = [['h', '0'], ['z', '0']]\n",
    "success_condition = {'XI': 1.0}\n",
    "allowed_gates = {'0': {'z': 0, 'h': 0}, '1': {}, 'both': {}}\n",
    "vi = [[1], True, True]\n",
    "qubit_names = {'0':'qubit 0', '1':'qubit 1'}\n",
    "puzzle = hello_quantum.run_game(initialize, success_condition, allowed_gates, vi, qubit_names)"
   ]
  },
  {
   "cell_type": "markdown",
   "metadata": {},
   "source": [
    "## Level 7\n",
    "\n",
    "### Intro\n",
    "* The `z`, when combined with `h`, can be used to do the job of an `x`\n",
    "\n",
    "### Exercise\n",
    "*  Turn on the bottom circle without using the `x` command\n"
   ]
  },
  {
   "cell_type": "code",
   "execution_count": null,
   "metadata": {},
   "outputs": [],
   "source": [
    "initialize = []\n",
    "success_condition = {'ZI': -1.0}\n",
    "allowed_gates = {'0': {'z': 0, 'h': 0}, '1': {}, 'both': {}}\n",
    "vi = [[1], True, True]\n",
    "qubit_names = {'0':'qubit 0', '1':'qubit 1'}\n",
    "puzzle = hello_quantum.run_game(initialize, success_condition, allowed_gates, vi, qubit_names)"
   ]
  },
  {
   "cell_type": "markdown",
   "metadata": {},
   "source": [
    "## Level 8\n",
    "\n",
    "### Intro\n",
    "* You might notice that the top circles are always random when the bottom circles are fully on or off.\n",
    "* This is because qubits can never be simultaneously certain about each kind of output.\n",
    "* If they are certain about one, the other must be random.\n",
    "* Quantum computing is all about making sure that your certainty and your randomness in the right place.\n",
    "\n",
    "### Exercise\n",
    "*  Move the off to the top and the randomness to the bottom."
   ]
  },
  {
   "cell_type": "code",
   "execution_count": null,
   "metadata": {},
   "outputs": [],
   "source": [
    "initialize = [['h', '0']]\n",
    "success_condition = {'IX': 1.0}\n",
    "allowed_gates = {'0': {}, '1': {'z': 0, 'h': 0}, 'both': {}}\n",
    "vi = [[0], True, True]\n",
    "qubit_names = {'0':'qubit 0', '1':'qubit 1'}\n",
    "puzzle = hello_quantum.run_game(initialize, success_condition, allowed_gates, vi, qubit_names)"
   ]
  },
  {
   "cell_type": "markdown",
   "metadata": {},
   "source": [
    "## Level 9\n",
    "\n",
    "### Intro\n",
    "* We can also share the limited certainty of our qubits between the two outputs.\n",
    "* Then both can be mostly certain about the output they give, even of they aren't fully certain.\n",
    "* In this exercise, the two circles for qubit 1 will start off dark grey. This means that both outputs would be highly likely, but not certain, to output a `0`.\n",
    "\n",
    "### Exercise\n",
    "* Make the two circles for qubit 1 both light grey. This means that they'd be highly likely, but not certain, to output a `1`."
   ]
  },
  {
   "cell_type": "code",
   "execution_count": null,
   "metadata": {},
   "outputs": [],
   "source": [
    "initialize = [['ry(pi/4)', '1']]\n",
    "success_condition = {'IZ': -0.7071, 'IX': -0.7071}\n",
    "allowed_gates = {'0': {}, '1': {'z': 0, 'h': 0}, 'both': {}}\n",
    "vi = [[0], True, True]\n",
    "qubit_names = {'0':'qubit 0', '1':'qubit 1'}\n",
    "puzzle = hello_quantum.run_game(initialize, success_condition, allowed_gates, vi, qubit_names)"
   ]
  },
  {
   "cell_type": "markdown",
   "metadata": {},
   "source": [
    "## Level 10\n",
    "\n",
    "### Intro\n",
    "* Now you know the basic tools, you can tackle both qubits at once.\n",
    "\n",
    "### Exercise\n",
    "*  Make both bottom outputs random."
   ]
  },
  {
   "cell_type": "code",
   "execution_count": null,
   "metadata": {},
   "outputs": [],
   "source": [
    "initialize = [['x', '1']]\n",
    "success_condition = {'ZI': 0.0, 'IZ': 0.0}\n",
    "allowed_gates = {'0': {'x': 0, 'z': 0, 'h': 0}, '1': {'x': 0, 'z': 0, 'h': 0}, 'both': {}}\n",
    "vi = [[], True, False]\n",
    "qubit_names = {'0':'qubit 0', '1':'qubit 1'}\n",
    "puzzle = hello_quantum.run_game(initialize, success_condition, allowed_gates, vi, qubit_names)"
   ]
  },
  {
   "cell_type": "markdown",
   "metadata": {},
   "source": [
    "### Outro\n",
    "* Each bottom output here would randomly output a `0` or a `1`.\n",
    "* But will their outputs be correlated? Anti-correlated? Completely unrelated?\n",
    "* Just as we did with bits, we'll keep track of this information with some extra circles.\n"
   ]
  },
  {
   "cell_type": "markdown",
   "metadata": {},
   "source": [
    "## Level 11\n",
    "\n",
    "### Intro\n",
    "* In this puzzle you'll see two four new circles.\n",
    "* If you've done the tutorial on bits, you've already been introduced to the lower one.\n",
    "* It does the same job here, keeping track of whether the bottom output of one qubit will agree with the bottom ouput of the other.\n",
    "* If the two bottom outputs would definitely agree, this circle is off (black). If they'd disagree, it's on (white).\n",
    "\n",
    "### Exercise\n",
    "*  Make the bottom outputs certain to disagree."
   ]
  },
  {
   "cell_type": "code",
   "execution_count": null,
   "metadata": {},
   "outputs": [],
   "source": [
    "initialize = [['h','0'],['h','1']]\n",
    "success_condition = {'ZZ': -1.0}\n",
    "allowed_gates = {'0': {'x': 0, 'z': 0, 'h': 0}, '1': {'x': 0, 'z': 0, 'h': 0}, 'both': {}}\n",
    "vi = [[], True, True]\n",
    "qubit_names = {'0':'qubit 0', '1':'qubit 1'}\n",
    "puzzle = hello_quantum.run_game(initialize, success_condition, allowed_gates, vi, qubit_names)"
   ]
  },
  {
   "cell_type": "markdown",
   "metadata": {},
   "source": [
    "## Level 12\n",
    "\n",
    "### Intro\n",
    "* The new circle at the very top has a similar job.\n",
    "* It keeps track of whether the top output from one qubit would agree with the top output from the other.\n",
    "\n",
    "### Exercise\n",
    "*  Make the top outputs certain to agree."
   ]
  },
  {
   "cell_type": "code",
   "execution_count": null,
   "metadata": {},
   "outputs": [],
   "source": [
    "initialize = [['x','0']]\n",
    "success_condition = {'XX': 1.0}\n",
    "allowed_gates = {'0': {'x': 0, 'z': 0, 'h': 0}, '1': {'x': 0, 'z': 0, 'h': 0}, 'both': {}}\n",
    "vi = [[], True, True]\n",
    "qubit_names = {'0':'qubit 0', '1':'qubit 1'}\n",
    "puzzle = hello_quantum.run_game(initialize, success_condition, allowed_gates, vi, qubit_names)"
   ]
  },
  {
   "cell_type": "markdown",
   "metadata": {},
   "source": [
    "## Level 13\n",
    "\n",
    "### Intro\n",
    "* The other new circles tell us whether the bottom output for one qubit would agree with the top one from the other.\n",
    "\n",
    "### Exercise\n",
    "*  Make the top output for qubit 0 certain to disagree with the bottom output for qubit 1."
   ]
  },
  {
   "cell_type": "code",
   "execution_count": null,
   "metadata": {},
   "outputs": [],
   "source": [
    "initialize = []\n",
    "success_condition = {'XZ': -1.0}\n",
    "allowed_gates = {'0': {'x': 0, 'z': 0, 'h': 0}, '1': {'x': 0, 'z': 0, 'h': 0}, 'both': {}}\n",
    "vi = [[], True, True]\n",
    "qubit_names = {'0':'qubit 0', '1':'qubit 1'}\n",
    "puzzle = hello_quantum.run_game(initialize, success_condition, allowed_gates, vi, qubit_names)"
   ]
  },
  {
   "cell_type": "markdown",
   "metadata": {},
   "source": [
    "## Level 14\n",
    "\n",
    "### Intro\n",
    "* Now the `x` commands don't just flip a single circle between black and white, but a whole column full of them\n",
    "\n",
    "### Exercise\n",
    "*  Turn the two bottom outputs on as much as you can."
   ]
  },
  {
   "cell_type": "code",
   "execution_count": null,
   "metadata": {},
   "outputs": [],
   "source": [
    "initialize = [['ry(-pi/4)', '1'], ['ry(-pi/4)','0']]\n",
    "success_condition = {'ZI': -0.7071, 'IZ': -0.7071}\n",
    "allowed_gates = {'0': {'x': 0}, '1': {'x': 0}, 'both': {}}\n",
    "vi = [[], True, True]\n",
    "qubit_names = {'0':'qubit 0', '1':'qubit 1'}\n",
    "puzzle = hello_quantum.run_game(initialize, success_condition, allowed_gates, vi, qubit_names)"
   ]
  },
  {
   "cell_type": "markdown",
   "metadata": {},
   "source": [
    "## Level 15\n",
    "\n",
    "### Intro\n",
    "* The `z` commands affect the top columns in a similar way.\n",
    "* The `h` command swaps the bottom and top columns.\n",
    "\n",
    "### Exercise\n",
    "*  Turn off the top cirlces."
   ]
  },
  {
   "cell_type": "code",
   "execution_count": null,
   "metadata": {},
   "outputs": [],
   "source": [
    "initialize = [['x', '1'], ['x','0']]\n",
    "success_condition = {'XI':1, 'IX':1}\n",
    "allowed_gates = {'0': {'z': 0, 'h': 0}, '1': {'z': 0, 'h': 0}, 'both': {}}\n",
    "vi = [[], True, True]\n",
    "qubit_names = {'0':'qubit 0', '1':'qubit 1'}\n",
    "puzzle = hello_quantum.run_game(initialize, success_condition, allowed_gates, vi, qubit_names)"
   ]
  },
  {
   "cell_type": "markdown",
   "metadata": {},
   "source": [
    "## Chapter 3: Two qubit operations"
   ]
  },
  {
   "cell_type": "markdown",
   "metadata": {},
   "source": [
    "## Level 1\n",
    "\n",
    "### Introduction\n",
    "* In the exercises on bits, we used the `CNOT` operation.\n",
    "* This can be used on qubits too!\n",
    "* Since the `x` operation serves as our quantum `NOT`, we will use the `cx` command to do a `CNOT` on qubits.\n",
    "* Again, these have a _control_ and a _target_: The bottom circle of the control qubit decides whether an `x` is applied to the target qubit.\n",
    "* When you apply this gate, the qubit you choose will serve as the target. The other qubit will then be the control.\n",
    "\n",
    "###  Exercise\n",
    "* Use a `cx` or two to turn on the bottom circle of qubit 1, and turn off the bottom circle of qubit 0."
   ]
  },
  {
   "cell_type": "code",
   "execution_count": null,
   "metadata": {
    "scrolled": false
   },
   "outputs": [],
   "source": [
    "initialize = [['x', '0']]\n",
    "success_condition = {'ZI': 1.0, 'IZ': -1.0}\n",
    "allowed_gates = {'0': {'cx': 0}, '1': {'cx': 0}, 'both': {}}\n",
    "vi = [[], True, True]\n",
    "qubit_names = {'0':'qubit 0', '1':'qubit 1'}\n",
    "puzzle = hello_quantum.run_game(initialize, success_condition, allowed_gates, vi, qubit_names)"
   ]
  },
  {
   "cell_type": "markdown",
   "metadata": {},
   "source": [
    "## Level 2\n",
    "\n",
    "### Introduction\n",
    "* As well as a `cx` operation, we can also do a `cz` with qubits.\n",
    "* This applies a `z` to the target when the bottom circle of the control is on\n",
    "\n",
    "###  Exercise\n",
    "* Turn on the top circle of qubit 0, and turn off the bottom circle of qubit 1."
   ]
  },
  {
   "cell_type": "code",
   "execution_count": null,
   "metadata": {},
   "outputs": [],
   "source": [
    "initialize = [['h', '0'],['x', '1']]\n",
    "success_condition = {'XI': -1.0, 'IZ': 1.0}\n",
    "allowed_gates = {'0': {'h': 0, 'cz': 0}, '1': {'cx': 0}, 'both': {}}\n",
    "vi = [[], True, True]\n",
    "qubit_names = {'0':'qubit 0', '1':'qubit 1'}\n",
    "puzzle = hello_quantum.run_game(initialize, success_condition, allowed_gates, vi, qubit_names)"
   ]
  },
  {
   "cell_type": "markdown",
   "metadata": {},
   "source": [
    "## Level 3\n",
    "\n",
    "### Introduction\n",
    "* There's another way that we can explain what a `cz` is doing.\n",
    "   - It swaps the top circle of qubit 0 with the neighbouring circle above it.\n",
    "   - It does the same with the top circle of qubit 1.\n",
    "* It also does something weird with the circle at the top of the grid, but we needn't think too much about that.\n",
    "\n",
    "###  Exercise\n",
    "* Do the `cz` twice with each qubit as control, and see what happens."
   ]
  },
  {
   "cell_type": "code",
   "execution_count": null,
   "metadata": {
    "scrolled": false
   },
   "outputs": [],
   "source": [
    "initialize = [['h', '0'],['x', '1'],['h', '1']]\n",
    "success_condition = { }\n",
    "allowed_gates = {'0':{'cz': 2}, '1':{'cz': 2}, 'both': {}}\n",
    "vi = [[], True, True]\n",
    "qubit_names = {'0':'qubit 0', '1':'qubit 1'}\n",
    "puzzle = hello_quantum.run_game(initialize, success_condition, allowed_gates, vi, qubit_names)"
   ]
  },
  {
   "cell_type": "markdown",
   "metadata": {},
   "source": [
    "###  Outro\n",
    "\n",
    "* As you might have noticed, it doesn't matter which qubit you choose as control: the `cz` does the same thing in either case.\n",
    "* So from now on, choosing the control qubit for the `cz` is not required."
   ]
  },
  {
   "cell_type": "markdown",
   "metadata": {},
   "source": [
    "## Level 4\n",
    "\n",
    "### Introduction\n",
    "* In a previous exercise, you've built an `x` from a `z` and some `h`s.\n",
    "* In the same way, it's possible to build a `cx` from a `cz` and some `h`s.\n",
    "\n",
    "###  Exercise\n",
    "* Turn on the bottom circle of qubit 1."
   ]
  },
  {
   "cell_type": "code",
   "execution_count": null,
   "metadata": {},
   "outputs": [],
   "source": [
    "initialize = [['x', '0']]\n",
    "success_condition = {'IZ': -1.0}\n",
    "allowed_gates = {'0': {'h':0}, '1': {'h':0}, 'both': {'cz': 0}}\n",
    "vi = [[], True, True]\n",
    "qubit_names = {'0':'qubit 0', '1':'qubit 1'}\n",
    "puzzle = hello_quantum.run_game(initialize, success_condition, allowed_gates, vi, qubit_names)"
   ]
  },
  {
   "cell_type": "markdown",
   "metadata": {},
   "source": [
    "### Outro\n",
    "\n",
    "* Unlike the `cz`, the `cx` is not symmetric.\n",
    "* To make one with the target on qubit 0, you would have to do the `h`s on qubit 0 instead."
   ]
  },
  {
   "cell_type": "markdown",
   "metadata": {},
   "source": [
    "## Level 5\n",
    "\n",
    "### Introduction\n",
    "* Because the `cx` isn't symmertic, it is fun to interpret it 'backwards'.\n",
    "* So instead of thinking of it as doing an `x` on the target depending on what the bottom circle of the control is doing...\n",
    "* ... we can think of it as doing a `z` to the control depending on what the top circle of the _target_ is doing.\n",
    "* In case you don't believe me, here's an exercise to test out this very property\n",
    "\n",
    "###  Exercise\n",
    "* Turn on the top circle of qubit 0."
   ]
  },
  {
   "cell_type": "code",
   "execution_count": null,
   "metadata": {},
   "outputs": [],
   "source": [
    "initialize = [['h', '0'],['h', '1']]\n",
    "success_condition = {'XI': -1.0, 'IX': -1.0}\n",
    "allowed_gates = {'0': {}, '1': {'z':0,'cx': 0}, 'both': {}}\n",
    "vi = [[], True, True]\n",
    "qubit_names = {'0':'qubit 0', '1':'qubit 1'}\n",
    "puzzle = hello_quantum.run_game(initialize, success_condition, allowed_gates, vi, qubit_names)"
   ]
  },
  {
   "cell_type": "markdown",
   "metadata": {},
   "source": [
    "### Outro\n",
    "* So there's two different stories about how the `cx` works. Though they may seem to be contradictory, they are equally good descriptions.\n",
    "* This is a great example of the weird and wonderful nature of quantum operations."
   ]
  },
  {
   "cell_type": "markdown",
   "metadata": {},
   "source": [
    "## Level 6\n",
    "\n",
    "### Introduction\n",
    "* These two interpretations of a `cx` can help us do something pretty useful: turning one around.\n",
    "* Suppose you need a `cx` with qubit 1 as target, but you can only do one with qubit 0 as target.\n",
    "* Can we somehow get the effect we need?\n",
    "\n",
    "###  Exercise\n",
    "* Turn on the bottom circle of qubit 1."
   ]
  },
  {
   "cell_type": "code",
   "execution_count": null,
   "metadata": {},
   "outputs": [],
   "source": [
    "initialize = []\n",
    "success_condition = {'IZ': -1.0}\n",
    "allowed_gates = {'0': {'x':0,'h':0,'cx':0}, '1': {'h':0}, 'both': {}}\n",
    "vi = [[], True, True]\n",
    "qubit_names = {'0':'qubit 0', '1':'qubit 1'}\n",
    "puzzle = hello_quantum.run_game(initialize, success_condition, allowed_gates, vi, qubit_names)"
   ]
  },
  {
   "cell_type": "markdown",
   "metadata": {},
   "source": [
    "### Outro\n",
    "* If you remember anything from these exercises, it should probably be this.\n",
    "* It is common for real qubit devices to limit which way around you can do the `cx`.\n",
    "* So the ability to turn them around comes in very handy."
   ]
  },
  {
   "cell_type": "markdown",
   "metadata": {},
   "source": [
    "## Level 7\n",
    "\n",
    "### Introduction\n",
    "* The `cz` and `cx` operations can also be used to make a `swap`.\n",
    "* This does exactly what the name suggests: it swaps the states of two qubits.\n",
    "\n",
    "###  Exercise\n",
    "* Swap the two qubits:\n",
    "    * Make the bottom circle white and the top circle grey for qubit 0;\n",
    "    * Make the bottom circle dark grey and the top circle light grey for qubit 1."
   ]
  },
  {
   "cell_type": "code",
   "execution_count": null,
   "metadata": {},
   "outputs": [],
   "source": [
    "initialize = [['ry(-pi/4)','0'],['ry(-pi/4)','0'],['ry(-pi/4)','0'],['x','0'],['x','1']]\n",
    "success_condition = {'ZI': -1.0,'XI':0,'IZ':0.7071,'IX':-0.7071}\n",
    "allowed_gates = {'0': {'h':0}, '1': {'h':0}, 'both': {'cz': 0}}\n",
    "vi = [[], True, True]\n",
    "qubit_names = {'0':'qubit 0', '1':'qubit 1'}\n",
    "puzzle = hello_quantum.run_game(initialize, success_condition, allowed_gates, vi, qubit_names)"
   ]
  },
  {
   "cell_type": "markdown",
   "metadata": {},
   "source": [
    "### Outro\n",
    "* Your solution to this puzzle might not have been a general purpose `swap`.\n",
    "* Compare your solution to those for the next few puzzles, which also implement swaps."
   ]
  },
  {
   "cell_type": "markdown",
   "metadata": {},
   "source": [
    "## Level 8\n",
    "\n",
    "#### Intro\n",
    "* Another puzzle based on the `swap`.\n",
    "\n",
    "#### Exercise\n",
    "* Swap the two qubits:\n",
    "    * Make the top circle black for qubit 0.\n",
    "    * Make the bottom white for qubit 1.\n",
    "* And do it with 3 `cz` operations"
   ]
  },
  {
   "cell_type": "code",
   "execution_count": null,
   "metadata": {},
   "outputs": [],
   "source": [
    "initialize = [['x','0'],['h','1']]\n",
    "success_condition = {'IX':1,'ZI':-1}\n",
    "allowed_gates = {'0': {'h':0}, '1': {'h':0}, 'both': {'cz':3}}\n",
    "vi = [[], True, True]\n",
    "qubit_names = {'0':'qubit 0', '1':'qubit 1'}\n",
    "puzzle = hello_quantum.run_game(initialize, success_condition, allowed_gates, vi, qubit_names,shots=2000)"
   ]
  },
  {
   "cell_type": "markdown",
   "metadata": {},
   "source": [
    "## Level 9\n",
    "\n",
    "#### Intro\n",
    "* Another puzzle based on the `swap`.\n",
    "\n",
    "#### Exercise\n",
    "* Swap the two qubits:\n",
    "    * Turn off the bottom circle for qubit 0.\n",
    "    * Turn on the bottom circle qubit 1."
   ]
  },
  {
   "cell_type": "code",
   "execution_count": null,
   "metadata": {
    "scrolled": false
   },
   "outputs": [],
   "source": [
    "initialize = [['x','1']]\n",
    "success_condition = {'IZ':1.0,'ZI':-1.0}\n",
    "allowed_gates = {'0': {'h':0}, '1': {'h':0}, 'both': {'cz':0}}\n",
    "vi = [[], True, True]\n",
    "qubit_names = {'0':'qubit 0', '1':'qubit 1'}\n",
    "puzzle = hello_quantum.run_game(initialize, success_condition, allowed_gates, vi, qubit_names,shots=2000)"
   ]
  },
  {
   "cell_type": "markdown",
   "metadata": {},
   "source": [
    "# Chapter 4: Beyond Clifford Operations"
   ]
  },
  {
   "cell_type": "markdown",
   "metadata": {},
   "source": [
    "## Level 1a\n",
    "\n",
    "### Introduction\n",
    "* The operations you've seen so far are called the 'Clifford operations'.\n",
    "* They are very important for moving and manipulating information in quantum computers\n",
    "* But to create algorithms that will outperform standard computers, we need more operations\n",
    "* This puzzle has one for you to try. Simply do it a few times, and see if you can work out what it does.\n",
    "\n",
    "###  Exercise\n",
    "* Apply `ry(pi/4)` four times to qubit 0."
   ]
  },
  {
   "cell_type": "code",
   "execution_count": null,
   "metadata": {
    "scrolled": false
   },
   "outputs": [],
   "source": [
    "initialize = []\n",
    "success_condition = {}\n",
    "allowed_gates = {'0': {'ry(pi/4)': 4}, '1': {}, 'both': {}}\n",
    "vi = [[], True, True]\n",
    "qubit_names = {'0':'qubit 0', '1':'qubit 1'}\n",
    "puzzle = hello_quantum.run_game(initialize, success_condition, allowed_gates, vi, qubit_names)"
   ]
  },
  {
   "cell_type": "markdown",
   "metadata": {},
   "source": [
    "###  Outro\n",
    "* If you were able to work it out, you are some sort of genuis!\n",
    "* For those of us who are mere mortals, let's try something new to help us figure it out."
   ]
  },
  {
   "cell_type": "markdown",
   "metadata": {},
   "source": [
    "## Level 1b\n",
    "\n",
    "### Introduction\n",
    "* To understand this operation, we need to slightly change the way we visualize the qubits.\n",
    "* From now now, an output that is certain to give `0` will be represented by a white line rather than a white circle.\n",
    "* And an output certain to give `1` will be a black line instead of a black circle.\n",
    "* For a random output, you'll see a line that's part white and part black instead of a grey circle.\n",
    "* Here's an old exercise to help you get used to this new visualization.\n",
    "\n",
    "###  Exercise\n",
    "* Make the top outputs certain to agree."
   ]
  },
  {
   "cell_type": "code",
   "execution_count": null,
   "metadata": {},
   "outputs": [],
   "source": [
    "initialize = [['x','0']]\n",
    "success_condition = {'XX': 1.0}\n",
    "allowed_gates = {'0': {'x': 0, 'z': 0, 'h': 0}, '1': {'x': 0, 'z': 0, 'h': 0}, 'both': {}}\n",
    "vi = [[], True, True]\n",
    "qubit_names = {'0':'qubit 0', '1':'qubit 1'}\n",
    "puzzle = hello_quantum.run_game(initialize, success_condition, allowed_gates, vi, qubit_names, mode='line')"
   ]
  },
  {
   "cell_type": "markdown",
   "metadata": {},
   "source": [
    "## Level 1c\n",
    "\n",
    "### Introduction\n",
    "* Now you'll see a new command: `bloch`.\n",
    "* This doesn't actually do anything to the qubits. It just draws the two lines for each qubit on top of each other.\n",
    "* It also puts a point where their levels intersect.\n",
    "* Using `bloch`, you should hopefully be able to figure out how `ry(pi/4)` works.\n",
    "\n",
    "###  Exercise\n",
    "* Turn the bottom line of qubit 0 fully on, and use the `bloch` command."
   ]
  },
  {
   "cell_type": "code",
   "execution_count": null,
   "metadata": {},
   "outputs": [],
   "source": [
    "initialize = []\n",
    "success_condition = {'ZI': -1.0}\n",
    "allowed_gates = {'0': {'bloch':1, 'ry(pi/4)': 0}, '1':{}, 'both': {'unbloch':0}}\n",
    "vi = [[], True, True]\n",
    "qubit_names = {'0':'qubit 0', '1':'qubit 1'}\n",
    "puzzle = hello_quantum.run_game(initialize, success_condition, allowed_gates, vi, qubit_names, mode='line')"
   ]
  },
  {
   "cell_type": "markdown",
   "metadata": {},
   "source": [
    "###  Outro\n",
    "* As you probably noticed, this doesn't just combine the two lines for each qubit. It combines their whole columns.\n",
    "* If we follow the points, the effect of `ry(pi/4)` is to rotate them.\n",
    "* Each application moves it an eighth of the way around the circle, and moves the levels of the lines along with it.\n",
    "* The `ry(pi/4)` is the same, except the rotation is in the other direction"
   ]
  },
  {
   "cell_type": "markdown",
   "metadata": {},
   "source": [
    "## Level 2\n",
    "\n",
    "### Introduction\n",
    "* Now let's use these commands on the other qubit too.\n",
    "\n",
    "###  Exercise\n",
    "* Turn the bottom lines fully on."
   ]
  },
  {
   "cell_type": "code",
   "execution_count": null,
   "metadata": {
    "scrolled": false
   },
   "outputs": [],
   "source": [
    "initialize = [['h','0'],['h','1']]\n",
    "success_condition = {'ZI': -1.0,'IZ': -1.0}\n",
    "allowed_gates = {'0': {'bloch':0, 'ry(pi/4)': 0, 'ry(-pi/4)': 0}, '1': {'bloch':0, 'ry(pi/4)': 0, 'ry(-pi/4)': 0}, 'both': {'unbloch':0}}\n",
    "vi = [[], True, True]\n",
    "qubit_names = {'0':'qubit 0', '1':'qubit 1'}\n",
    "puzzle = hello_quantum.run_game(initialize, success_condition, allowed_gates, vi, qubit_names, mode='line')"
   ]
  },
  {
   "cell_type": "markdown",
   "metadata": {},
   "source": [
    "## Level 3\n",
    "\n",
    "### Introduction\n",
    "* Here's a puzzle you could solve with a simple `cx`, or a `cz` and some `h`s.\n",
    "* Unfortunately you have neither `cx` nor `h`.\n",
    "* So you'll need to work out how `cz` and `ry`s can do the job.\n",
    "\n",
    "\n",
    "###  Exercise\n",
    "* Make the bottom outputs agree."
   ]
  },
  {
   "cell_type": "code",
   "execution_count": null,
   "metadata": {},
   "outputs": [],
   "source": [
    "initialize = [['h','0']]\n",
    "success_condition = {'ZZ': 1.0}\n",
    "allowed_gates = {'0': {}, '1': {'bloch':0, 'ry(pi/4)': 0, 'ry(-pi/4)': 0}, 'both': {'unbloch':0,'cz':0}}\n",
    "vi = [[], True, True]\n",
    "qubit_names = {'0':'qubit 0', '1':'qubit 1'}\n",
    "puzzle = hello_quantum.run_game(initialize, success_condition, allowed_gates, vi, qubit_names, mode='line')"
   ]
  },
  {
   "cell_type": "markdown",
   "metadata": {},
   "source": [
    "## Level 4\n",
    "\n",
    "### Introduction\n",
    "* Using `x`s or `z`s you can effectively _reflect_ an `ry`, to make it move in the opposite direction.\n",
    "\n",
    "\n",
    "###  Exercise\n",
    "* Turn the bottom outputs fully off with just one `ry(pi/4)` on each."
   ]
  },
  {
   "cell_type": "code",
   "execution_count": null,
   "metadata": {},
   "outputs": [],
   "source": [
    "initialize = [['ry(pi/4)','0'],['ry(pi/4)','1']]\n",
    "success_condition = {'ZI': 1.0,'IZ': 1.0}\n",
    "allowed_gates = {'0': {'bloch':0, 'z':0, 'ry(pi/4)': 1}, '1': {'bloch':0, 'x':0, 'ry(pi/4)': 1}, 'both': {'unbloch':0}}\n",
    "vi = [[], True, True]\n",
    "qubit_names = {'0':'qubit 0', '1':'qubit 1'}\n",
    "puzzle = hello_quantum.run_game(initialize, success_condition, allowed_gates, vi, qubit_names, mode='line')"
   ]
  },
  {
   "cell_type": "markdown",
   "metadata": {},
   "source": [
    "## Level 5\n",
    "\n",
    "### Introduction\n",
    "* With the `ry`s, we can make conditional operations that are more interesting than just `cz` and `cx`.\n",
    "* For example, we can make a controlled-`h`.\n",
    "\n",
    "\n",
    "###  Exercise\n",
    "* Turn off the bottom output for qubit 1 using exactly one `ry(pi/4)` and `ry(-pi/4)` on that qubit."
   ]
  },
  {
   "cell_type": "code",
   "execution_count": null,
   "metadata": {},
   "outputs": [],
   "source": [
    "initialize = [['x','0'],['h','1']]\n",
    "success_condition = {'IZ': 1.0}\n",
    "allowed_gates = {'0': {}, '1': {'bloch':0, 'cx':0, 'ry(pi/4)': 1, 'ry(-pi/4)': 1}, 'both': {'unbloch':0}}\n",
    "vi = [[], True, True]\n",
    "qubit_names = {'0':'qubit 0', '1':'qubit 1'}\n",
    "puzzle = hello_quantum.run_game(initialize, success_condition, allowed_gates, vi, qubit_names, mode='line')"
   ]
  },
  {
   "cell_type": "markdown",
   "metadata": {},
   "source": [
    "## Sandbox\n",
    "\n",
    "You now know enough basic quantum operations to build fully powerful quantum programs. You'll get a taste of this in the next chapter. Until then, here is a grid with all the operations enabled, so you can have a play around."
   ]
  },
  {
   "cell_type": "code",
   "execution_count": null,
   "metadata": {
    "scrolled": false
   },
   "outputs": [],
   "source": [
    "initialize = []\n",
    "success_condition = {'IZ': 1.0,'IX': 1.0}\n",
    "allowed_gates = {'0': {'bloch':0, 'x':0, 'z':0, 'h':0, 'cx':0, 'ry(pi/4)': 0, 'ry(-pi/4)': 0}, '1': {'bloch':0, 'x':0, 'z':0, 'h':0, 'cx':0, 'ry(pi/4)': 0, 'ry(-pi/4)': 0}, 'both': {'cz':0, 'unbloch':0}}\n",
    "vi = [[], True, True]\n",
    "qubit_names = {'0':'qubit 0', '1':'qubit 1'}\n",
    "puzzle = hello_quantum.run_game(initialize, success_condition, allowed_gates, vi, qubit_names, mode='line')"
   ]
  },
  {
   "cell_type": "markdown",
   "metadata": {},
   "source": [
    "## Chapter 5: Proving the Uniqueness of Quantum Variables"
   ]
  },
  {
   "cell_type": "markdown",
   "metadata": {},
   "source": [
    "## Bell test for classical variables\n",
    "\n",
    "Here we'll investigate how quantum variables (based on qubits) differ from standard ones (based on bits).\n",
    "\n",
    "We'll do this by creating a pair of variables, which we will call `A` and `B`. We aren't going to put any conditions on what these can be, or how they are initialized. So there are a lot of possibilities:\n",
    "\n",
    "* They could be any kind of variable, such as\n",
    "    * `int`\n",
    "    * `list`\n",
    "    * `dict`\n",
    "    * ...\n",
    "* They could be initialized by any kind of process, such as\n",
    "    * left empty\n",
    "    * filled with a given set of values\n",
    "    * generated by a given random process\n",
    "        * indepedently applied to `A` and `B`\n",
    "        * applied to `A` and `B` together, allowing for correlations between their randomness\n",
    "\n",
    "If the variables are initialized by a random process, it means they'll have different values every time we run our program. This is perfectly fine. The only rule we need to obey is that the process of generating the randomness is the same for every run.\n",
    "\n",
    "We'll use the function below to set up these variables. This currently has `A` and `B` defined as to be partially correlated random floating point numbers. But you can change it to whatever you want."
   ]
  },
  {
   "cell_type": "code",
   "execution_count": null,
   "metadata": {},
   "outputs": [],
   "source": [
    "import random\n",
    "def setup_variables ():\n",
    "    \n",
    "    ### Replace this section with anything you want ###\n",
    "    \n",
    "    r = random.random()\n",
    "    \n",
    "    A = r*(2/3)\n",
    "    B = r*(1/3)\n",
    "    \n",
    "    ### End of section ###\n",
    "    \n",
    "    return A, B"
   ]
  },
  {
   "cell_type": "markdown",
   "metadata": {},
   "source": [
    "Our next job is to define a hashing function. This simply needs to take one of the variables as input, and then give a bit value as an output.\n",
    "\n",
    "This function must also be capable of performing two different types of hash. So it needs to be able to be able to chew on a variable and spit out a bit in to different ways. Another input to the function is therefore the kind of hash we want to use.\n",
    "\n",
    "To be consistent with the rest of the program, the two possible hash types should be called `'H'` and `'V'`. Also, the output must be in the form of a single value bit string: either `'0'` or `'1'`.\n",
    "\n",
    "As an example, I created bits by comparing `A` and `B` to a certain value. The output is `'1'` if they are under that value, and `'0'` otherwise. The type of hash determines the value used."
   ]
  },
  {
   "cell_type": "code",
   "execution_count": null,
   "metadata": {},
   "outputs": [],
   "source": [
    "def hash2bit ( variable, hash ):\n",
    "    \n",
    "    ### Replace this section with anything you want ###\n",
    "    \n",
    "    if hash=='V':\n",
    "        bit = (variable<0.5)\n",
    "    elif hash=='H':\n",
    "        bit = (variable<0.25)\n",
    "        \n",
    "    bit = str(int(bit))\n",
    "    \n",
    "    ### End of section ###\n",
    "        \n",
    "    return bit"
   ]
  },
  {
   "cell_type": "markdown",
   "metadata": {},
   "source": [
    "Once these are defined, there are four quantities we wish to calculate: `P['HH']`, `P['HV']`, `P['VH']` and `P['VV']`.\n",
    "\n",
    "Let's focus on `P['HV']` as an example. This is the probability that the bit value derived from an `'H'` type hash on `A` is the same as that from a `'V'` type has on `B`. We will estimate this probability by sampling many times and determining the fraction of samples for which the corresponding bit values agree.\n",
    "\n",
    "The other probabilities are defined similarly: `P['HH']` compares a `'H'` type hash on both `A` and `B`, `P['VV']` compares a `V` type hash on both, and `P['VH']` compares a `V` type hash on `A` with a `H` type has on `B`.\n",
    "\n",
    "These probabilities are calculated in the following function, which returns all the values of `P` in a dictionary. The parameter `shots` is the number of samples we'll use."
   ]
  },
  {
   "cell_type": "code",
   "execution_count": null,
   "metadata": {},
   "outputs": [],
   "source": [
    "shots = 8192\n",
    "def calculate_P ( ):\n",
    "    \n",
    "    P = {}\n",
    "    for hashes in ['VV','VH','HV','HH']:\n",
    "        \n",
    "        # calculate each P[hashes] by sampling over `shots` samples\n",
    "        P[hashes] = 0\n",
    "        for shot in range(shots):\n",
    "\n",
    "            A, B = setup_variables()\n",
    "\n",
    "            a = hash2bit ( A, hashes[0] ) # hash type for variable `A` is the first character of `hashes`\n",
    "            b = hash2bit ( B, hashes[1] ) # hash type for variable `B` is the second character of `hashes`\n",
    "\n",
    "            P[hashes] += (a!=b) / shots\n",
    " \n",
    "    return P"
   ]
  },
  {
   "cell_type": "markdown",
   "metadata": {},
   "source": [
    "Now let's actually calculate these values for the method we have chosen to set up and hash the variables."
   ]
  },
  {
   "cell_type": "code",
   "execution_count": null,
   "metadata": {},
   "outputs": [],
   "source": [
    "P = calculate_P()\n",
    "print(P)"
   ]
  },
  {
   "cell_type": "markdown",
   "metadata": {},
   "source": [
    "These values will vary slightly from one run to the next due to the fact that we only use a finite number of shots. To change them significantly, we need to change the way the variables are initiated, and/or the way the hash functions are defined.\n",
    "\n",
    "No matter how these functions are defined, there are certain restrictions that the values of `P` will always obey.\n",
    "\n",
    "For example, consider the case that `P['HV']`, `P['VH']` and `P['VV']` are all `0.0`. The only way that this can be possible is for `P['HH']` to also be `0.0`.\n",
    "\n",
    "To see why, we start by noting that `P['HV']=0.0` is telling us that `hash2bit ( A, H )` and `hash2bit ( B, V )` were never different in any of the runs. So this means we can always expect them to be equal.\n",
    "\n",
    "    hash2bit ( A, H ) = hash2bit ( B, V )        (1)\n",
    "    \n",
    "From `P['VV']=0.0` and `P['VH']=0.0` we can similarly get\n",
    "\n",
    "    hash2bit ( A, V ) = hash2bit ( B, V )        (2)\n",
    "    \n",
    "    hash2bit ( A, V ) = hash2bit ( B, H )        (3)\n",
    "    \n",
    "Putting (1) and (2) together implies that\n",
    "\n",
    "    hash2bit ( A, H ) = hash2bit ( A, V )        (4)\n",
    "    \n",
    "Combining this with (3) gives\n",
    "\n",
    "    hash2bit ( A, H ) = hash2bit ( B, H )        (5)\n",
    "\n",
    "And if these values are always equal, we'll never see a run in which they are different. This is exactly what we set out to prove: `P['HH']=0.0`.\n",
    "\n",
    "More generally, we can use the values of `P['HV']`, `P['VH']` and `P['VV']` to set an upper limit on what `P['HH']` can be. By adapting the [CHSH inequality](https://en.wikipedia.org/wiki/CHSH_inequality) we find that\n",
    "\n",
    "$\\,\\,\\,\\,\\,\\,\\,$ `P['HH']` $\\, \\leq \\,$ `P['HV'] + P['VH'] + P['VV']`\n",
    "\n",
    "This is not just a special property of `P['HH']`. It's also true for all the others: each of these probabilities cannot be greater than the sum of the others.\n",
    "\n",
    "To test whether this logic holds, we'll see how well the probabilities obey these inequalities. Note that we might get slight violations due to the fact that our the `P` values aren't exact, but are estimations made using a limited number of samples."
   ]
  },
  {
   "cell_type": "code",
   "execution_count": null,
   "metadata": {},
   "outputs": [],
   "source": [
    "def bell_test (P):\n",
    "    \n",
    "    sum_P = sum(P.values())\n",
    "    for hashes in P:\n",
    "        \n",
    "        bound = sum_P - P[hashes]\n",
    "        \n",
    "        print(\"The upper bound for P['\"+hashes+\"'] is \"+str(bound))\n",
    "        print(\"The value of P['\"+hashes+\"'] is \"+str(P[hashes]))\n",
    "        if P[hashes]<=bound:\n",
    "            print(\"The upper bound is obeyed :)\\n\")\n",
    "        else:\n",
    "            if P[hashes]-bound < 0.1:\n",
    "                print(\"This seems to have gone over the upper bound, but only by a little bit :S\\nProbably just rounding errors or statistical noise.\\n\")\n",
    "            else:\n",
    "                print(\"!!!!! This has gone well over the upper bound :O !!!!!\\n\")"
   ]
  },
  {
   "cell_type": "code",
   "execution_count": null,
   "metadata": {},
   "outputs": [],
   "source": [
    "bell_test(P)"
   ]
  },
  {
   "cell_type": "markdown",
   "metadata": {},
   "source": [
    "With the initialization and hash functions provided in this notebook, the value of `P('HV')` should be pretty much the same as the upper bound. Since the numbers are estimated statistically, and therefore are slightly approximate due to statistical noise, you might even see it go a tiny bit over. But you'll never see it significantly surpass the bound.\n",
    "\n",
    "If you don't beleive me, try it for yourself. Change the way the variables are initialized, and how the hashes are calculated, and try to get one of the bounds to be significantly broken."
   ]
  },
  {
   "cell_type": "markdown",
   "metadata": {},
   "source": [
    "## Bell test for quantum variables\n",
    "\n",
    "Now we are going to do the same thing all over again, except our variables `A` and `B` will be quantum variables. Specifically, they'll be the simplest kind of quantum variable: qubits."
   ]
  },
  {
   "cell_type": "markdown",
   "metadata": {},
   "source": [
    "When writing quantum programs, we have to set up our qubits and bits before we can use them. This is done by the function below. It defines a register of two bits, and assigns them as our variables `A` and `B`. It then sets up a register of two bits to receive the outputs, and assigns them as `a` and `b`.\n",
    "\n",
    "Finally it uses these registers to set up an empty quantum program. This is called `qc`."
   ]
  },
  {
   "cell_type": "code",
   "execution_count": null,
   "metadata": {},
   "outputs": [],
   "source": [
    "from qiskit import QuantumRegister, ClassicalRegister, QuantumCircuit\n",
    "\n",
    "def initialize_program ():\n",
    "    \n",
    "    qubit = QuantumRegister(2)\n",
    "    A = qubit[0]\n",
    "    B = qubit[1]\n",
    "    \n",
    "    bit = ClassicalRegister(2)\n",
    "    a = bit[0]\n",
    "    b = bit[1]\n",
    "    \n",
    "    qc = QuantumCircuit(qubit, bit)\n",
    "    \n",
    "    return A, B, a, b, qc"
   ]
  },
  {
   "cell_type": "markdown",
   "metadata": {},
   "source": [
    "Before we start writing the quantum program to set up our variables, let's think about what needs to happen at the end of the program. This will be where we define the different hash functions, which turn our qubits into bits.\n",
    "\n",
    "The simplest way to extract a bit from a qubit is through the `measure` command. This corresponds to the bottom circle of a qubit in the visualization we've been using. Let's use this as our `V` type hash.\n",
    "\n",
    "For the output that corresponds to the top circle, there is no direct means of access. However, we can do it indirectly by first doing an `h` to swap the top and bottom circles, and then using the `measure` command. This will be our `H` type hash.\n",
    "\n",
    "Note that this function has more inputs that its classical counterpart. We have to tell it the `bit` on which to write the result, and the quantum program, `qc`, on which we write the commands."
   ]
  },
  {
   "cell_type": "code",
   "execution_count": null,
   "metadata": {},
   "outputs": [],
   "source": [
    "def hash2bit  ( variable, hash, bit, qc ):\n",
    "    \n",
    "    if hash=='H':\n",
    "        qc.h( variable )\n",
    "        \n",
    "    qc.measure( variable, bit )\n",
    "        "
   ]
  },
  {
   "cell_type": "markdown",
   "metadata": {},
   "source": [
    "Now its time to set up the variables `A` and `B`. To write this program, you can use the grid below. You can either follow the suggested exercise, or do whatever you like. Once you are ready, just move on. The cell containing the `setup_variables()` function, will then use the program you wrote with the grid.\n",
    "\n",
    "Note that our choice of means that the probabilities `P['HH']`, `P['HV']`, `P['VH']` and `P['VV']` will explicitly correspond to circles on our grid. For example, the circle at the very top tells us how likely the two top outputs would be to disagree. If this is white, then `P['HH']=1` , if it is black then `P['HH']=0`.\n",
    "\n",
    "### Exercise\n",
    "* Make it so that outputs from the bottom circles of both qubits are most likely to disagree, whereas all other combinations of outputs are most likely to agree."
   ]
  },
  {
   "cell_type": "code",
   "execution_count": null,
   "metadata": {
    "scrolled": false
   },
   "outputs": [],
   "source": [
    "initialize = []\n",
    "success_condition = {'ZZ':-0.7071,'ZX':-0.7071,'XZ':-0.7071,'XX':-0.7071}\n",
    "allowed_gates = {'0': {'bloch':0, 'x':0, 'z':0, 'h':0, 'cx':0, 'ry(pi/4)': 0, 'ry(-pi/4)': 0}, '1': {'bloch':0, 'x':0, 'z':0, 'h':0, 'cx':0, 'ry(pi/4)': 0, 'ry(-pi/4)': 0}, 'both': {'cz':0, 'unbloch':0}}\n",
    "vi = [[], True, True]\n",
    "qubit_names = {'0':'A', '1':'B'}\n",
    "puzzle = hello_quantum.run_game(initialize, success_condition, allowed_gates, vi, qubit_names, mode='line')"
   ]
  },
  {
   "cell_type": "markdown",
   "metadata": {},
   "source": [
    "Now the program as written above will be used to set up the quantum variables."
   ]
  },
  {
   "cell_type": "code",
   "execution_count": null,
   "metadata": {},
   "outputs": [],
   "source": [
    "import numpy as np\n",
    "def setup_variables ( A, B, qc ):\n",
    "    \n",
    "    for line in puzzle.program:\n",
    "        eval(line)\n"
   ]
  },
  {
   "cell_type": "markdown",
   "metadata": {},
   "source": [
    "The values of `P` are calculated in the function below. This is done by sending jobs to IBM and getting results which tell us how many of the samples gave each possible result. The results are given as a bit string, `string`, which IBM numbers from right to left. This means that the value of `a`, which corresponds to `bit[0]` is the first from the right\n",
    "\n",
    "    a = string[-1]\n",
    "    \n",
    "and the value of `b` is right next to it at the second from the right\n",
    "\n",
    "    b = string[-2]\n",
    "\n",
    "The number of samples for this bit string is provided by the dictionary of results, `stats`, as `stats[string]`."
   ]
  },
  {
   "cell_type": "code",
   "execution_count": null,
   "metadata": {},
   "outputs": [],
   "source": [
    "shots = 8192\n",
    "from qiskit import execute\n",
    "\n",
    "def calculate_P ( backend ):\n",
    "    \n",
    "    P = {}\n",
    "    program = {}\n",
    "    for hashes in ['VV','VH','HV','HH']:\n",
    "\n",
    "        A, B, a, b, program[hashes] = initialize_program ()\n",
    "\n",
    "        setup_variables( A, B, program[hashes] )\n",
    "\n",
    "        hash2bit ( A, hashes[0], a, program[hashes])\n",
    "        hash2bit ( B, hashes[1], b, program[hashes])\n",
    "            \n",
    "    # submit jobs\n",
    "    job = execute( list(program.values()), backend, shots=shots )\n",
    "\n",
    "    # get the results\n",
    "    for hashes in ['VV','VH','HV','HH']:\n",
    "        stats = job.result().get_counts(program[hashes])\n",
    "        \n",
    "        P[hashes] = 0\n",
    "        for string in stats.keys():\n",
    "            a = string[-1]\n",
    "            b = string[-2]\n",
    "            \n",
    "            if a!=b:\n",
    "                P[hashes] += stats[string] / shots\n",
    "\n",
    "    return P"
   ]
  },
  {
   "cell_type": "markdown",
   "metadata": {},
   "source": [
    "Now its time to choose and set up the actually device we are going to use. By default, we'll use a simulator. But if you want to use the real device, just replace the first line below with `device='ibmq_5_tenerife'` or `device='ibmq_16_melbourne'`."
   ]
  },
  {
   "cell_type": "code",
   "execution_count": null,
   "metadata": {},
   "outputs": [],
   "source": [
    "device = 'qasm_simulator_py'\n",
    "\n",
    "from qiskit import Aer, IBMQ\n",
    "try:\n",
    "    IBMQ.load_accounts()\n",
    "except:\n",
    "    pass\n",
    "\n",
    "try:\n",
    "    backend = Aer.get_backend(device)\n",
    "except:\n",
    "    backend = IBMQ.get_backend(device)\n",
    "print(backend.status())"
   ]
  },
  {
   "cell_type": "code",
   "execution_count": null,
   "metadata": {},
   "outputs": [],
   "source": [
    "P = calculate_P( backend )\n",
    "print(P)"
   ]
  },
  {
   "cell_type": "code",
   "execution_count": null,
   "metadata": {},
   "outputs": [],
   "source": [
    "bell_test( P )"
   ]
  },
  {
   "cell_type": "markdown",
   "metadata": {
    "collapsed": true
   },
   "source": [
    "If you prepared the state suggestion by the exercise, you will have found a significant violation of the upper bound for `P['HH']`. So what is going on here? The chain of logic we based the Bell test on obviously doesn't apply to quantum variables. But why?\n",
    "\n",
    "The answer is that there is a hidden assumption in that logic. To see why, let's revisit point (4).\n",
    "\n",
    "    hash2bit ( A, H ) = hash2bit ( A, V )        (4)\n",
    "    \n",
    "Here we compare the value we'd get from an `H` type of hash of the variable `A` with that for a `V` type hash.\n",
    "\n",
    "For classical variables, this is perfectly sensible. There is nothing stopping us from calculating both hashes and comparing the results. Even if calculating the hash of a variable changes the variable, that's not a problem. All we need to do is copy it beforehand and we can do both hashes without any issue.\n",
    "\n",
    "The same is not true for quantum variables. The result of the hashes is not known until we actually do them. It's only then that the qubit actually decides what bit value to give. And once it decides the value for one type of hash, we can never determine what it would have decided if we had used another type of hash. We can't get around this by copying the quantum variables either, because quantum variables [cannot be copied](https://en.wikipedia.org/wiki/No-cloning_theorem). This means there is no context in which the values `hash2bit(A,H)` and `hash2bit(A,V)` are well-defined at the same time, and so it is impossible to compare them.\n",
    "\n",
    "Another hidden assumption is that `hash2bit(A,hash)` depends only on the type of hash chosen for variable `A`, and not the one chosen for variable `B`. This is also perfectly sensible, since this exactly the way we set up the `hash2bit()` function. However, the very fact that the upper bound was violated does seem to imply that each variable knows what hash is  being done to the other, so they they can conspire to give very different behaviour when both have a `H` type hash.\n",
    "\n",
    "Even so, the effect is subtle. It is impossible to determine which variable is affecting which: You can change the order in which the hashes are done, or [effectively do them at the same time](https://en.wikipedia.org/wiki/Loopholes_in_Bell_test_experiments#Communication,_or_locality), and you'll get the same results. This means that it not clear whether we can say they affect each other (see [here](https://quantumcomputing.stackexchange.com/questions/2028/is-it-true-to-say-that-one-qubit-in-an-entangled-state-can-instantaneously-affec) for some discussion). But what we can say is that they are [contextual](https://en.wikipedia.org/wiki/Quantum_contextuality): to fully understand results from one variable, it is sometimes required to look at what was done to another.\n",
    "\n",
    "All this goes to show that quantum variables don't always follow the logic we are used to. They follow different rules, the rules of quantum mechanics, which will allow us to find ways of performing computation in very different ways than we are used to."
   ]
  },
  {
   "cell_type": "code",
   "execution_count": null,
   "metadata": {},
   "outputs": [],
   "source": []
  }
 ],
 "metadata": {
  "kernelspec": {
   "display_name": "Python 3",
   "language": "python",
   "name": "python3"
  },
  "language_info": {
   "codemirror_mode": {
    "name": "ipython",
    "version": 3
   },
   "file_extension": ".py",
   "mimetype": "text/x-python",
   "name": "python",
   "nbconvert_exporter": "python",
   "pygments_lexer": "ipython3",
   "version": "3.6.7"
  }
 },
 "nbformat": 4,
 "nbformat_minor": 2
}
