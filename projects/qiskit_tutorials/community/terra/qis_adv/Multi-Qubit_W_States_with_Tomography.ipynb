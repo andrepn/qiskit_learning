{
 "cells": [
  {
   "cell_type": "markdown",
   "metadata": {},
   "source": [
    "<img src=\"../../../images/qiskit-heading.gif\" alt=\"Note: In order for images to show up in this jupyter notebook you need to select File => Trusted Notebook\" width=\"500 px\" align=\"left\">"
   ]
  },
  {
   "cell_type": "markdown",
   "metadata": {},
   "source": [
    "# Deterministic Creation of Multi-Qubit W State Systems\n",
    "\n",
    "## _*Benchmarking Competing Algorithms by Quantum Tomography*_ \n",
    "\n",
    "\n",
    "***\n",
    "### Contributors\n",
    "Pierre Decoodt\n"
   ]
  },
  {
   "cell_type": "markdown",
   "metadata": {},
   "source": [
    "A generalized $n$-qubit W state system can be written as$^{[1]}$:\n",
    "$$ |W_{n}\\rangle \\; = \\; \\sqrt{\\frac{1}{n}} \\: (\\:|10...0\\rangle \\: +  |01...0\\rangle \\: +...+ |00...1\\rangle \\:) $$\n",
    "\n",
    "A specific compact algorithm allows the deterministic creation of W states of any size $n$., as described here:\n",
    "\n",
    "https://nbviewer.jupyter.org/github/Qiskit/qiskit-tutorial/blob/master/community/teach_me_qiskit_2018/w_state/W%20State%201%20-%20Multi-Qubit%20Systems.ipynb\n",
    "\n",
    "This algorithm is inspired by Diker's theoretical proposition$^{[2]}$, but is characterized by a linear rather than quadratic progression of the number of gates needed when  $ n $ increases.\n",
    "\n",
    "In many cases, the QISKit compiler is so smart that it allows safely the programming of circuits without taking into account the architecture of the different final real target devices. This is the approach that is presented here with realization of a compact multi-qubit W state generation program.\n",
    "\n",
    "For the creation of such states, an other approach is to use a general algorithm of arbitrary initialization, as described _at the end_ of the following tutorial:\n",
    "\n",
    "https://nbviewer.jupyter.org/github/Qiskit/qiskit-tutorial/blob/master/qiskit/terra/using_different_gates.ipynb\n",
    "\n",
    "\n",
    "Therefore, why worry about using a specific algorithm, sophisticated on the theoretical level, while a ready-made alternative, valid for any entangled state, is at our disposal?\n",
    "\n",
    "For this reason, it seemed interesting to compare the two approaches by using quantum fidelity as a benchmark, with the help of the methodology presented here:\n",
    "\n",
    "https://nbviewer.jupyter.org/github/Qiskit/qiskit-tutorial/blob/master/qiskit/ignis/state_tomography.ipynb (the code to calculate the quantum fidelity used here comes mostly from this last tutorial).\n",
    "\n",
    "As you will see at the end of the notebook in the \"results\" section, one of the algorithms in competition clearly outperforms the other..."
   ]
  },
  {
   "cell_type": "code",
   "execution_count": 1,
   "metadata": {},
   "outputs": [],
   "source": [
    "#Import packages\n",
    "\n",
    "import numpy as np\n",
    "import matplotlib.pyplot as plt\n",
    "%matplotlib inline\n",
    "\n",
    "# import from qiskit\n",
    "from qiskit import QuantumCircuit, QuantumRegister, ClassicalRegister, execute, compile\n",
    "from qiskit.converters import qobj_to_circuits\n",
    "from qiskit import Aer, IBMQ\n",
    "\n",
    "# import tomography library\n",
    "import qiskit.tools.qcvv.tomography as tomo\n",
    "\n",
    "# useful additional packages \n",
    "from qiskit.tools.visualization import plot_state, plot_histogram        \n",
    "from qiskit.tools.qi.qi import state_fidelity, outer\n",
    "from qiskit.tools.monitor import job_monitor\n",
    "from qiskit.providers.ibmq import least_busy"
   ]
  },
  {
   "cell_type": "code",
   "execution_count": 2,
   "metadata": {},
   "outputs": [],
   "source": [
    "# You may skip this if you don't have a credential. It will work locally on simulators from Aer\n",
    "IBMQ.load_accounts()"
   ]
  },
  {
   "cell_type": "code",
   "execution_count": 3,
   "metadata": {},
   "outputs": [
    {
     "data": {
      "text/plain": [
       "[<IBMQBackend('ibmqx4') from IBMQ()>,\n",
       " <IBMQBackend('ibmq_16_melbourne') from IBMQ()>,\n",
       " <IBMQBackend('ibmq_qasm_simulator') from IBMQ()>]"
      ]
     },
     "execution_count": 3,
     "metadata": {},
     "output_type": "execute_result"
    }
   ],
   "source": [
    "IBMQ.backends() #for info"
   ]
  },
  {
   "cell_type": "code",
   "execution_count": 4,
   "metadata": {},
   "outputs": [
    {
     "name": "stdout",
     "output_type": "stream",
     "text": [
      "BackendStatus(backend_name='ibmqx4', backend_version='1.0.0', operational=True, pending_jobs=111, status_msg='active')\n",
      "BackendStatus(backend_name='ibmq_16_melbourne', backend_version='1.0.0', operational=True, pending_jobs=2, status_msg='active')\n",
      "BackendStatus(backend_name='ibmq_qasm_simulator', backend_version='0.1.547', operational=True, pending_jobs=0, status_msg='active')\n"
     ]
    }
   ],
   "source": [
    "# You may skip this if you want\n",
    "for backend in IBMQ.backends():\n",
    "    print(backend.status())"
   ]
  },
  {
   "cell_type": "code",
   "execution_count": 5,
   "metadata": {},
   "outputs": [
    {
     "data": {
      "text/plain": [
       "[<QasmSimulator('qasm_simulator') from AerProvider()>,\n",
       " <StatevectorSimulator('statevector_simulator') from AerProvider()>,\n",
       " <UnitarySimulator('unitary_simulator') from AerProvider()>]"
      ]
     },
     "execution_count": 5,
     "metadata": {},
     "output_type": "execute_result"
    }
   ],
   "source": [
    "Aer.backends() #for info"
   ]
  },
  {
   "cell_type": "code",
   "execution_count": 6,
   "metadata": {},
   "outputs": [
    {
     "name": "stdout",
     "output_type": "stream",
     "text": [
      "type number of qubits + enter: 4\n",
      "Do you want to use the specific method?\n",
      "    Answer by (y/n) + enter\n",
      "y\n"
     ]
    }
   ],
   "source": [
    "# Determine the job\n",
    "n = int(input(\"type number of qubits + enter: \"))\n",
    "\n",
    "# create a n-qubit quantum register\n",
    "qr = QuantumRegister(n)\n",
    "cr = ClassicalRegister(n)\n",
    "my_state = QuantumCircuit(qr, cr, name='my_state')\n",
    "\n",
    "# desired vector for a n-qubit W state\n",
    "desired_vector = []\n",
    "qr_vector = []\n",
    "n_vector = 2**n\n",
    "for i in range(n_vector):\n",
    "        desired_vector.append(0)\n",
    "for j in range(n) :           \n",
    "        desired_vector[2**j] = 1/np.sqrt(n)\n",
    "\n",
    "        \n",
    "# choice of the circuit building method (arbitrary or specific)        \n",
    "print(\"Do you want to use the specific method?\")\n",
    "W_state_circuit = input(\"    Answer by (y/n) + enter\\n\").upper()\n",
    "\n",
    "if (W_state_circuit == \"N\") :\n",
    "# Initialize a n-qubit W quantum state using the arbitrary method   \n",
    "    for j in range(n) :                   \n",
    "        qr_vector.append(qr[j])\n",
    "    my_state.initialize(desired_vector, qr_vector)\n",
    "    \n",
    "else:\n",
    "# Quantum circuit to make a n-qubit W state using the specific method\n",
    "    my_state.x(qr[n-1]) #start is |10...0>\n",
    "    for i in range(1,n) :\n",
    "        theta = np.arccos(np.sqrt(1/(n-i+1)))\n",
    "        my_state.ry(-theta,qr[n-i-1])       \n",
    "        my_state.cz(qr[n-i],qr[n-i-1])\n",
    "        my_state.ry(theta,qr[n-i-1])\n",
    "    for i in range(1,n) :\n",
    "        my_state.cx(qr[n-i-1],qr[n-i])"
   ]
  },
  {
   "cell_type": "code",
   "execution_count": 7,
   "metadata": {
    "scrolled": false
   },
   "outputs": [],
   "source": [
    "# Test circuit \"my_state\"  : Measurements\n",
    "measuring = QuantumCircuit(qr, cr, name='measuring')\n",
    "for i in range(n) :\n",
    "    measuring.measure(qr[i] , cr[i])\n",
    "test = my_state+measuring"
   ]
  },
  {
   "cell_type": "code",
   "execution_count": 8,
   "metadata": {
    "scrolled": false
   },
   "outputs": [
    {
     "name": "stdout",
     "output_type": "stream",
     "text": [
      "{'0001': 256, '1000': 256, '0100': 253, '0010': 259}\n"
     ]
    }
   ],
   "source": [
    "# Test circuit \"my_state\" : Local simulator\n",
    "backend_sim = Aer.get_backend('qasm_simulator')\n",
    "shots = 1024\n",
    "job = execute(test, backend_sim, shots=shots, max_credits=5)\n",
    "print(job.result().get_counts(test))"
   ]
  },
  {
   "cell_type": "code",
   "execution_count": 9,
   "metadata": {},
   "outputs": [
    {
     "data": {
      "image/png": "[encoded data removed]",
      "text/plain": [
       "<Figure size 504x360 with 1 Axes>"
      ]
     },
     "execution_count": 9,
     "metadata": {},
     "output_type": "execute_result"
    }
   ],
   "source": [
    "plot_histogram(job.result().get_counts(test))"
   ]
  },
  {
   "cell_type": "code",
   "execution_count": 10,
   "metadata": {},
   "outputs": [
    {
     "name": "stdout",
     "output_type": "stream",
     "text": [
      "OPENQASM 2.0;\n",
      "include \"qelib1.inc\";\n",
      "qreg q0[4];\n",
      "creg c0[4];\n",
      "x q0[3];\n",
      "ry(-1.04719755119660) q0[2];\n",
      "cz q0[3],q0[2];\n",
      "ry(1.04719755119660) q0[2];\n",
      "ry(-0.955316618124509) q0[1];\n",
      "cz q0[2],q0[1];\n",
      "ry(0.955316618124509) q0[1];\n",
      "ry(-0.785398163397448) q0[0];\n",
      "cz q0[1],q0[0];\n",
      "ry(0.785398163397448) q0[0];\n",
      "cx q0[2],q0[3];\n",
      "cx q0[1],q0[2];\n",
      "cx q0[0],q0[1];\n",
      "measure q0[0] -> c0[0];\n",
      "measure q0[1] -> c0[1];\n",
      "measure q0[2] -> c0[2];\n",
      "measure q0[3] -> c0[3];\n",
      "\n"
     ]
    }
   ],
   "source": [
    "# QASM from test\n",
    "QASM_source = test.qasm()\n",
    "print(QASM_source)"
   ]
  },
  {
   "cell_type": "code",
   "execution_count": 11,
   "metadata": {},
   "outputs": [
    {
     "data": {
      "image/png": "[encoded data removed]",
      "text/plain": [
       "<Figure size 1023.4x499.66 with 1 Axes>"
      ]
     },
     "execution_count": 11,
     "metadata": {},
     "output_type": "execute_result"
    }
   ],
   "source": [
    "# Draw the circuit \n",
    "test.draw(output='mpl')"
   ]
  },
  {
   "cell_type": "code",
   "execution_count": 12,
   "metadata": {},
   "outputs": [
    {
     "data": {
      "application/vnd.jupyter.widget-view+json": {
       "model_id": "9d6a3abbc93a465fbf0a89c56debe996",
       "version_major": 2,
       "version_minor": 0
      },
      "text/plain": [
       "HTML(value=\"<p style='font-size:16px;'>Job Status: job is being initialized </p>\")"
      ]
     },
     "metadata": {},
     "output_type": "display_data"
    }
   ],
   "source": [
    "# Test circuit \"my_state\" : Real Quantum Computer (You may skip this if necessary)\n",
    "\n",
    "# choose the backend\n",
    "backend_IBMQ = least_busy(IBMQ.backends(operational=True, simulator=False))\n",
    "shots = 1024\n",
    "\n",
    "job = execute(test, backend_IBMQ, shots=shots, max_credits=5)\n",
    "job_monitor(job)"
   ]
  },
  {
   "cell_type": "code",
   "execution_count": 13,
   "metadata": {},
   "outputs": [
    {
     "data": {
      "image/png": "[encoded data removed]",
      "text/plain": [
       "<Figure size 504x360 with 1 Axes>"
      ]
     },
     "execution_count": 13,
     "metadata": {},
     "output_type": "execute_result"
    }
   ],
   "source": [
    "plot_histogram(job.result().get_counts(test))"
   ]
  },
  {
   "cell_type": "code",
   "execution_count": null,
   "metadata": {},
   "outputs": [],
   "source": [
    "# Quantum fidelity\n",
    "\n",
    "# obtain the final state vector\n",
    "backend_stvct = Aer.get_backend('statevector_simulator')\n",
    "job = execute(my_state, backend_stvct)\n",
    "my_state_psi = job.result().get_statevector(my_state)\n",
    "\n",
    "# construct state tomography set for measurement of qubits [0, ..., n-1] in the Pauli basis\n",
    "qubit_set = []\n",
    "for i in range(0,n) :\n",
    "    qubit_set.append(i)\n",
    "\n",
    "my_state_tomo_set = tomo.state_tomography_set(qubit_set) # default value for meas_basis ='Pauli'.\n",
    "\n",
    "# add the state tomography measurement circuits to the Quantum Program\n",
    "my_state_tomo_circuits = tomo.create_tomography_circuits(my_state, qr, cr, my_state_tomo_set)\n",
    "\n",
    "#Choose the backend\n",
    "backend_tomo = Aer.get_backend('qasm_simulator') # for remaining local\n",
    "#backend_tomo = least_busy(IBMQ.backends(operational=True, simulator=False)) # for using a real device\n",
    "\n",
    "# take 1024 shots for each measurement basis\n",
    "# note: reduce this number for larger number of qubits\n",
    "shots = 1024\n",
    "\n",
    "# run the experiment\n",
    "my_state_job = execute(my_state_tomo_circuits, backend_tomo, shots=shots)\n",
    "print(my_state_job.status)\n",
    "my_state_tomo_result = my_state_job.result()\n",
    "print(my_state_tomo_result)\n",
    "\n",
    "# extract tomography data from results\n",
    "my_state_tomo_data = tomo.tomography_data(my_state_tomo_result, my_state.name, my_state_tomo_set)\n",
    "\n",
    "# reconstruct experimentally measured density matrix \n",
    "rho_fit = tomo.fit_tomography_data(my_state_tomo_data)\n",
    "\n",
    "# calculate fidelity of fitted state:\n",
    "time_exp = time.strftime('%d/%m/%Y %H:%M:%S')\n",
    "print('my state',n, '- qubit on', backend_tomo, \"N=\", shots,time_exp)\n",
    "F_fit = state_fidelity(rho_fit, my_state_psi)\n",
    "print('Fidelity with ideal state')\n",
    "print('F =', F_fit)"
   ]
  },
  {
   "cell_type": "markdown",
   "metadata": {},
   "source": [
    "### Results: ###\n",
    "\n",
    "The following results were obtained on the ibmqx4 using 1024 shots in each experiment:"
   ]
  },
  {
   "cell_type": "code",
   "execution_count": 14,
   "metadata": {},
   "outputs": [
    {
     "data": {
      "image/png": "[encoded data removed]",
      "text/plain": [
       "<Figure size 432x288 with 1 Axes>"
      ]
     },
     "metadata": {
      "needs_background": "light"
     },
     "output_type": "display_data"
    }
   ],
   "source": [
    "plt.xlabel('Number of Entangled Qubits')\n",
    "plt.ylabel('Quantum Fidelity')\n",
    "plt.axis([1.4, 6, 0, 1])\n",
    "plt.grid()\n",
    "plt.plot([2,3,4,5], [0.812,0.735,0.592,0.457], 'ro-', label=\"Specific Algorithm\")\n",
    "plt.plot([2,3,4,5], [0.838,0.539,0.144,0.060], 'bs-', label=\"Arbitrary Initialization\")\n",
    "plt.legend()\n",
    "plt.show()"
   ]
  },
  {
   "cell_type": "markdown",
   "metadata": {},
   "source": [
    "### Concluding remark:\n",
    "\n",
    "\n",
    "The efficiency of the more compact specific algorithm as a deterministic $ |W_{n}\\rangle$ production tool, when estimated from the quantum fidelity, is clearly related to the linear progression of the number of required gates when n increases. On the other hand, the arbitrary initialization requires a number of gate increasing geometrically.\n",
    "This can be appreciated by looking at the qasm source and the circuit drawings of the respective circuits. "
   ]
  },
  {
   "cell_type": "markdown",
   "metadata": {},
   "source": [
    "### References:\n",
    "\n",
    "[1] Dür, W., Vidal, G., & Cirac, J. I. (2000). Three qubits can be entangled in two inequivalent ways. Physical Review A, 62(6), 062314. \n",
    "\n",
    "[2] Diker, F. (2016). Deterministic construction of arbitrary W states with quadratically increasing number of two-qubit gates. arXiv preprint arXiv:1606.09290\n"
   ]
  }
 ],
 "metadata": {
  "anaconda-cloud": {},
  "kernelspec": {
   "display_name": "Python [default]",
   "language": "python",
   "name": "python3"
  },
  "language_info": {
   "codemirror_mode": {
    "name": "ipython",
    "version": 3
   },
   "file_extension": ".py",
   "mimetype": "text/x-python",
   "name": "python",
   "nbconvert_exporter": "python",
   "pygments_lexer": "ipython3",
   "version": "3.6.7"
  }
 },
 "nbformat": 4,
 "nbformat_minor": 2
}
