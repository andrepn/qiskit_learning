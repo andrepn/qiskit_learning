{
 "cells": [
  {
   "cell_type": "code",
   "execution_count": 1,
   "metadata": {},
   "outputs": [],
   "source": [
    "from collections import OrderedDict\n",
    "import numpy as np\n",
    "from qiskit import Aer\n",
    "from qiskit.transpiler import PassManager\n",
    "\n",
    "from qiskit_aqua import Operator, QuantumInstance\n",
    "from qiskit_aqua.algorithms.adaptive import VQE\n",
    "from qiskit_aqua.algorithms.classical import ExactEigensolver\n",
    "from qiskit_aqua.algorithms.components.optimizers import L_BFGS_B\n",
    "from qiskit_aqua.algorithms.components.variational_forms import RY\n",
    "\n",
    "from qiskit_aqua_chemistry import FermionicOperator\n",
    "from qiskit_aqua_chemistry.drivers import ConfigurationManager\n"
   ]
  },
  {
   "cell_type": "code",
   "execution_count": 2,
   "metadata": {},
   "outputs": [],
   "source": [
    "# using driver to get fermionic Hamiltonian\n",
    "# PyQuante example\n",
    "cfg_mgr = ConfigurationManager()\n",
    "pyquante_cfg = OrderedDict([('atoms', 'H .0 .0 .0; H .0 .0 0.735'), ('units', 'Angstrom'), ('charge', 0), ('multiplicity', 1), ('basis', 'sto3g')])\n",
    "section = {}\n",
    "section['properties'] = pyquante_cfg\n",
    "driver = cfg_mgr.get_driver_instance('PYQUANTE')\n",
    "molecule = driver.run(section)\n",
    "h1 = molecule._one_body_integrals\n",
    "h2 = molecule._two_body_integrals"
   ]
  },
  {
   "cell_type": "code",
   "execution_count": 3,
   "metadata": {},
   "outputs": [],
   "source": [
    "# convert from fermionic hamiltonian to qubit hamiltonian\n",
    "ferOp = FermionicOperator(h1=h1, h2=h2)\n",
    "qubitOp_jw = ferOp.mapping(map_type='JORDAN_WIGNER', threshold=0.00000001)\n",
    "qubitOp_pa = ferOp.mapping(map_type='PARITY', threshold=0.00000001)\n",
    "qubitOp_bi = ferOp.mapping(map_type='BRAVYI_KITAEV', threshold=0.00000001)"
   ]
  },
  {
   "cell_type": "code",
   "execution_count": 4,
   "metadata": {},
   "outputs": [
    {
     "name": "stdout",
     "output_type": "stream",
     "text": [
      "IIII\t(-0.8105479862761009+0j)\n",
      "IIIZ\t(0.1721839427308564+0j)\n",
      "IIZI\t(-0.22575350251540538+0j)\n",
      "IIZZ\t(0.12091263358560006+0j)\n",
      "IZII\t(0.1721839427308564+0j)\n",
      "IZIZ\t(0.1689275404885901+0j)\n",
      "IZZI\t(0.16614543338049342+0j)\n",
      "IZZZ\t(-5.551115123125783e-17+0j)\n",
      "XXXX\t(0.045232799794893475+0j)\n",
      "XXYY\t(0.045232799794893475+0j)\n",
      "YYXX\t(0.045232799794893475+0j)\n",
      "YYYY\t(0.045232799794893475+0j)\n",
      "ZIII\t(-0.2257535025154054+0j)\n",
      "ZIIZ\t(0.16614543338049342+0j)\n",
      "ZIZI\t(0.17464343142442204+0j)\n",
      "ZIZZ\t(-5.551115123125783e-17+0j)\n",
      "ZZII\t(0.12091263358560007+0j)\n",
      "ZZIZ\t(-5.551115123125783e-17+0j)\n",
      "ZZZI\t(-4.163336342344337e-17+0j)\n",
      "ZZZZ\t(-2.7755575615628914e-17+0j)\n",
      "\n",
      "The exact ground state energy is: -1.85727507663788\n"
     ]
    }
   ],
   "source": [
    "# print out qubit hamiltonian in Pauli terms and exact solution\n",
    "\n",
    "qubitOp_jw.to_matrix()\n",
    "qubitOp_jw.chop(10**-10)\n",
    "\n",
    "print(qubitOp_jw.print_operators())\n",
    "\n",
    "# Using exact eigensolver to get the smallest eigenvalue\n",
    "exact_eigensolver = ExactEigensolver(qubitOp_jw, k=1)\n",
    "ret = exact_eigensolver.run()\n",
    "print('The exact ground state energy is: {}'.format(ret['energy']))    "
   ]
  },
  {
   "cell_type": "code",
   "execution_count": 5,
   "metadata": {},
   "outputs": [
    {
     "name": "stdout",
     "output_type": "stream",
     "text": [
      "Minimum value: -1.857275076616748\n",
      "Parameters: [ 1.24560170e-01 -2.24608226e+00 -3.14159048e+00 -2.42131530e+00\n",
      "  8.72124461e-01 -2.06751067e+00 -6.50175294e-01  2.88665414e+00\n",
      "  1.27536588e+00  4.63691897e-01 -1.92054319e+00  2.67567922e+00\n",
      " -2.34453122e-01  1.10136519e+00  1.69630611e+00  7.44171042e-01\n",
      "  2.95271596e+00  2.30531994e-03  1.59835566e-01  7.98698092e-01\n",
      " -1.75134877e+00  9.96040972e-01  2.10338450e+00  2.03697896e+00]\n"
     ]
    }
   ],
   "source": [
    "lbfgs = L_BFGS_B()\n",
    "lbfgs.set_options(maxfun=1000, factr=10, iprint=10)\n",
    "\n",
    "# setup variation form generator (generate trial circuits for VQE)\n",
    "var_form = RY(qubitOp_jw.num_qubits, 5, entangler_map = {0: [1], 1:[2], 2:[3]})\n",
    "\n",
    "# setup VQE with operator, variation form, and optimzer\n",
    "vqe_algorithm = VQE(qubitOp_jw, var_form, lbfgs, 'matrix')\n",
    "\n",
    "backend = Aer.get_backend('statevector_simulator')\n",
    "quantum_instance = QuantumInstance(backend, pass_manager=PassManager())\n",
    "\n",
    "results = vqe_algorithm.run(quantum_instance)\n",
    "\n",
    "print(\"Minimum value: {}\".format(results['eigvals'][0]))\n",
    "print(\"Parameters: {}\".format(results['opt_params']))"
   ]
  }
 ],
 "metadata": {
  "kernelspec": {
   "display_name": "quantum-dev",
   "language": "python",
   "name": "quantum-dev"
  },
  "language_info": {
   "codemirror_mode": {
    "name": "ipython",
    "version": 3
   },
   "file_extension": ".py",
   "mimetype": "text/x-python",
   "name": "python",
   "nbconvert_exporter": "python",
   "pygments_lexer": "ipython3",
   "version": "3.6.5"
  }
 },
 "nbformat": 4,
 "nbformat_minor": 1
}
