{
 "cells": [
  {
   "cell_type": "code",
   "execution_count": 1,
   "metadata": {},
   "outputs": [],
   "source": [
    "from collections import OrderedDict\n",
    "\n",
    "import numpy as np\n",
    "from qiskit import Aer\n",
    "from qiskit.transpiler import PassManager\n",
    "\n",
    "from qiskit_aqua import Operator, QuantumInstance\n",
    "from qiskit_aqua.algorithms.adaptive import VQE\n",
    "from qiskit_aqua.algorithms.classical import ExactEigensolver\n",
    "from qiskit_aqua.algorithms.components.optimizers import L_BFGS_B\n",
    "from qiskit_aqua.algorithms.components.variational_forms import RY\n",
    "\n",
    "from qiskit_aqua_chemistry import FermionicOperator\n",
    "from qiskit_aqua_chemistry.drivers import ConfigurationManager"
   ]
  },
  {
   "cell_type": "code",
   "execution_count": 2,
   "metadata": {},
   "outputs": [],
   "source": [
    "from qiskit_aqua_chemistry.drivers import ConfigurationManager\n",
    "from collections import OrderedDict\n",
    "cfg_mgr = ConfigurationManager()\n",
    "pyscf_cfg = OrderedDict([('atom', 'H .0 .0 .0; H .0 .0 0.735'), ('unit', 'Angstrom'), ('charge', 0), ('spin', 0), \\\n",
    "                         ('basis', 'sto3g')])\n",
    "section = {}\n",
    "section['properties'] = pyscf_cfg\n",
    "driver = cfg_mgr.get_driver_instance('PYSCF')\n",
    "molecule = driver.run(section)"
   ]
  },
  {
   "cell_type": "code",
   "execution_count": 3,
   "metadata": {},
   "outputs": [
    {
     "name": "stdout",
     "output_type": "stream",
     "text": [
      "The exact ground state energy is: -1.8572750302023824\n",
      "The Hartree Fock Electron Energy is: -1.8369679912029842\n"
     ]
    }
   ],
   "source": [
    "ferOp = FermionicOperator(h1=molecule._one_body_integrals, h2=molecule._two_body_integrals)\n",
    "qubitOp_jw = ferOp.mapping(map_type='JORDAN_WIGNER', threshold=0.00000001)\n",
    "qubitOp_jw.chop(10**-10)\n",
    "\n",
    "# Using exact eigensolver to get the smallest eigenvalue\n",
    "exact_eigensolver = ExactEigensolver(qubitOp_jw, k=1)\n",
    "ret = exact_eigensolver.run()\n",
    "\n",
    "# print(qubitOp_jw.print_operators())\n",
    "\n",
    "print('The exact ground state energy is: {}'.format(ret['energy']))\n",
    "print('The Hartree Fock Electron Energy is: {}'.format(molecule._hf_energy - molecule._nuclear_repulsion_energy))"
   ]
  },
  {
   "cell_type": "code",
   "execution_count": 4,
   "metadata": {},
   "outputs": [
    {
     "name": "stdout",
     "output_type": "stream",
     "text": [
      "Energy shift is: 1.8369679912029846\n",
      "The exact ground state energy in PH basis is -0.020307038999395587\n",
      "The exact ground state energy in PH basis is -1.8572750302023802 (with energy_shift)\n"
     ]
    }
   ],
   "source": [
    "# particle hole transformation\n",
    "newferOp, energy_shift = ferOp.particle_hole_transformation(num_particles=2)\n",
    "print('Energy shift is: {}'.format(energy_shift))\n",
    "newqubitOp_jw = newferOp.mapping(map_type='JORDAN_WIGNER', threshold=0.00000001)\n",
    "newqubitOp_jw.chop(10**-10)\n",
    "\n",
    "exact_eigensolver = ExactEigensolver(newqubitOp_jw, k=1)\n",
    "ret = exact_eigensolver.run()\n",
    "\n",
    "# print(newqubitOp_jw.print_operators())\n",
    "print('The exact ground state energy in PH basis is {}'.format(ret['energy']))\n",
    "print('The exact ground state energy in PH basis is {} (with energy_shift)'.format(ret['energy'] - energy_shift))"
   ]
  },
  {
   "cell_type": "code",
   "execution_count": 5,
   "metadata": {},
   "outputs": [
    {
     "name": "stdout",
     "output_type": "stream",
     "text": [
      "Minimum value: -0.020307038916806994\n",
      "Minimum value: -1.8572750301197916\n",
      "Parameters: [-0.61946199 -1.87409724  0.24417792  1.60641243 -2.3985038  -2.55902994\n",
      " -1.68929972 -0.55469298 -1.09966074 -3.00271563  2.53835355  0.30461019\n",
      "  0.86787481  2.57016619 -2.17943234 -1.08788746  2.60613503  2.21836476\n",
      " -1.77645011 -1.88678767  3.14158727  0.69993303  1.62197744 -0.65831574]\n"
     ]
    }
   ],
   "source": [
    "# setup VQE \n",
    "# setup optimizer, use L_BFGS_B optimizer for example\n",
    "lbfgs = L_BFGS_B()\n",
    "lbfgs.set_options(maxfun=1000, factr=10, iprint=10)\n",
    "\n",
    "# setup variation form generator (generate trial circuits for VQE)\n",
    "var_form = RY(newqubitOp_jw.num_qubits, 5, entangler_map = {0: [1], 1:[2], 2:[3]})\n",
    "\n",
    "# setup VQE with operator, variation form, and optimzer\n",
    "vqe_algorithm = VQE(newqubitOp_jw, var_form, lbfgs, 'matrix')\n",
    "\n",
    "backend = Aer.get_backend('statevector_simulator')\n",
    "quantum_instance = QuantumInstance(backend, pass_manager=PassManager())\n",
    "\n",
    "results = vqe_algorithm.run(quantum_instance)\n",
    "print(\"Minimum value: {}\".format(results['eigvals'][0].real))\n",
    "print(\"Minimum value: {}\".format(results['eigvals'][0].real - energy_shift))\n",
    "print(\"Parameters: {}\".format(results['opt_params']))"
   ]
  },
  {
   "cell_type": "code",
   "execution_count": null,
   "metadata": {},
   "outputs": [],
   "source": []
  }
 ],
 "metadata": {
  "kernelspec": {
   "display_name": "Quantum py37",
   "language": "python",
   "name": "quantum-dev-37"
  },
  "language_info": {
   "codemirror_mode": {
    "name": "ipython",
    "version": 3
   },
   "file_extension": ".py",
   "mimetype": "text/x-python",
   "name": "python",
   "nbconvert_exporter": "python",
   "pygments_lexer": "ipython3",
   "version": "3.7.1"
  }
 },
 "nbformat": 4,
 "nbformat_minor": 2
}
