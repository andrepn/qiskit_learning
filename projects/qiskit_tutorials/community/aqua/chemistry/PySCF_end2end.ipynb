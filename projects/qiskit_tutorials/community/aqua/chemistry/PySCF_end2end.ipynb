{
 "cells": [
  {
   "cell_type": "code",
   "execution_count": 1,
   "metadata": {},
   "outputs": [],
   "source": [
    "from collections import OrderedDict\n",
    "\n",
    "import numpy as np\n",
    "from qiskit import Aer\n",
    "from qiskit.transpiler import PassManager\n",
    "\n",
    "from qiskit_aqua import Operator, QuantumInstance\n",
    "from qiskit_aqua.algorithms.adaptive import VQE\n",
    "from qiskit_aqua.algorithms.classical import ExactEigensolver\n",
    "from qiskit_aqua.algorithms.components.optimizers import L_BFGS_B\n",
    "from qiskit_aqua.algorithms.components.variational_forms import RYRZ\n",
    "\n",
    "from qiskit_aqua_chemistry import FermionicOperator\n",
    "from qiskit_aqua_chemistry.drivers import ConfigurationManager"
   ]
  },
  {
   "cell_type": "code",
   "execution_count": 2,
   "metadata": {},
   "outputs": [],
   "source": [
    "# using driver to get fermionic Hamiltonian\n",
    "# PySCF example\n",
    "cfg_mgr = ConfigurationManager()\n",
    "pyscf_cfg = OrderedDict([('atom', 'H .0 .0 .0; H .0 .0 0.735'), ('unit', 'Angstrom'), ('charge', 0), ('spin', 0), ('basis', 'sto3g')])\n",
    "section = {}\n",
    "section['properties'] = pyscf_cfg\n",
    "driver = cfg_mgr.get_driver_instance('PYSCF')\n",
    "molecule = driver.run(section)"
   ]
  },
  {
   "cell_type": "code",
   "execution_count": 3,
   "metadata": {},
   "outputs": [],
   "source": [
    "# get fermionic operator and mapping to qubit operator\n",
    "ferOp = FermionicOperator(h1=molecule._one_body_integrals, h2=molecule._two_body_integrals)\n",
    "qubitOp = ferOp.mapping(map_type='JORDAN_WIGNER', threshold=0.00000001)\n",
    "qubitOp.to_matrix()\n",
    "qubitOp.chop(10**-10)"
   ]
  },
  {
   "cell_type": "code",
   "execution_count": 4,
   "metadata": {},
   "outputs": [],
   "source": [
    "# if you do not install any driver and want like to start with random Hamiltonian\n",
    "# SIZE=4\n",
    "# matrix = np.random.random((SIZE,SIZE))\n",
    "# qubitOp = Operator(matrix=matrix)"
   ]
  },
  {
   "cell_type": "code",
   "execution_count": 5,
   "metadata": {},
   "outputs": [
    {
     "name": "stdout",
     "output_type": "stream",
     "text": [
      "The exact ground state energy is: -1.857275030202381\n"
     ]
    }
   ],
   "source": [
    "# Using exact eigensolver to get the smallest eigenvalue\n",
    "exact_eigensolver = ExactEigensolver(qubitOp, k=1)\n",
    "ret = exact_eigensolver.run()\n",
    "print('The exact ground state energy is: {}'.format(ret['eigvals'][0].real))"
   ]
  },
  {
   "cell_type": "code",
   "execution_count": 6,
   "metadata": {},
   "outputs": [
    {
     "name": "stdout",
     "output_type": "stream",
     "text": [
      "Minimum value: -1.8558394075654778\n",
      "Parameters: [-0.36421285 -3.14159265  0.40713821  0.628366    1.16855107  3.13654292\n",
      "  3.04706761  1.01598668  3.14159265  0.01276409 -2.71605135 -0.55606055\n",
      "  1.38614919  1.99367984  2.96826647  3.09819302  2.66399496  0.21704659\n",
      " -3.14159265  2.45685901  0.0471695   1.59525629 -0.0287444   0.24710631\n",
      " -3.14159265 -2.76470226 -0.5284518  -2.3109039   1.56821496  0.27591985\n",
      "  2.92605829 -1.72430953  2.17302923 -0.59972485 -3.14159265  0.78339345\n",
      " -2.0963081  -1.43178347  1.61460406  3.11192051  2.9109565   1.92113649\n",
      " -2.71970626 -1.01656819 -3.13375028 -2.96831398 -1.59718039 -1.13423582]\n"
     ]
    }
   ],
   "source": [
    "# setup VQE \n",
    "# setup optimizer, use L_BFGS_B optimizer for example\n",
    "lbfgs = L_BFGS_B()\n",
    "lbfgs.set_options(maxfun=1000, factr=10, iprint=10)\n",
    "\n",
    "# setup variation form generator (generate trial circuits for VQE)\n",
    "var_form = RYRZ(qubitOp.num_qubits, 5, entangler_map = {0: [1], 1:[2], 2:[3]})\n",
    "\n",
    "# setup VQE with operator, variation form, and optimzer\n",
    "vqe_algorithm = VQE(qubitOp, var_form, lbfgs, 'matrix')\n",
    "\n",
    "backend = Aer.get_backend('statevector_simulator')\n",
    "quantum_instance = QuantumInstance(backend, pass_manager=PassManager())\n",
    "\n",
    "results = vqe_algorithm.run(quantum_instance)\n",
    "print(\"Minimum value: {}\".format(results['eigvals'][0].real))\n",
    "print(\"Parameters: {}\".format(results['opt_params']))"
   ]
  },
  {
   "cell_type": "code",
   "execution_count": null,
   "metadata": {},
   "outputs": [],
   "source": []
  }
 ],
 "metadata": {
  "kernelspec": {
   "display_name": "Quantum py37",
   "language": "python",
   "name": "quantum-dev-37"
  },
  "language_info": {
   "codemirror_mode": {
    "name": "ipython",
    "version": 3
   },
   "file_extension": ".py",
   "mimetype": "text/x-python",
   "name": "python",
   "nbconvert_exporter": "python",
   "pygments_lexer": "ipython3",
   "version": "3.7.1"
  }
 },
 "nbformat": 4,
 "nbformat_minor": 1
}
